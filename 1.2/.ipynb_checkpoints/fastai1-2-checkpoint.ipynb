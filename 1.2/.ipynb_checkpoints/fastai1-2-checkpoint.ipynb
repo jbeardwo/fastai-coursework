{
 "cells": [
  {
   "cell_type": "code",
   "execution_count": null,
   "id": "a29cfcd8-7892-4bdd-8f93-2904f121235f",
   "metadata": {},
   "outputs": [],
   "source": []
  }
 ],
 "metadata": {
  "kernelspec": {
   "display_name": "Python (fastai)",
   "language": "python",
   "name": "fastai"
  },
  "language_info": {
   "codemirror_mode": {
    "name": "ipython",
    "version": 3
   },
   "file_extension": ".py",
   "mimetype": "text/x-python",
   "name": "python",
   "nbconvert_exporter": "python",
   "pygments_lexer": "ipython3",
   "version": "3.12.3"
  }
 },
 "nbformat": 4,
 "nbformat_minor": 5
}
