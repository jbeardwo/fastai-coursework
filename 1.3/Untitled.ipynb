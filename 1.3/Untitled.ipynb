{
 "cells": [
  {
   "cell_type": "code",
   "execution_count": 1,
   "id": "b5f81f7e-8684-4eaa-8888-f1337ea22b4b",
   "metadata": {},
   "outputs": [],
   "source": [
    "#hide\n",
    "import fastbook\n",
    "fastbook.setup_book()\n",
    "from fastai.vision.all import *\n",
    "from fastbook import *\n",
    "matplotlib.rc('image', cmap='Greys')"
   ]
  },
  {
   "cell_type": "code",
   "execution_count": 2,
   "id": "c3c1f86d-3f07-4943-99b2-13a93452f237",
   "metadata": {},
   "outputs": [],
   "source": [
    "path = untar_data(URLs.MNIST_SAMPLE)"
   ]
  },
  {
   "cell_type": "code",
   "execution_count": 3,
   "id": "0e3cee22-9932-4092-a108-bce0d405517a",
   "metadata": {},
   "outputs": [],
   "source": [
    "#MNIST is a collection of handwritten digits"
   ]
  },
  {
   "cell_type": "code",
   "execution_count": 4,
   "id": "cbe1938c-7b18-4138-afa1-c22547c8527e",
   "metadata": {},
   "outputs": [],
   "source": [
    "Path.BASE_PATH = path"
   ]
  },
  {
   "cell_type": "code",
   "execution_count": 5,
   "id": "7aa9ff1c-f66d-48c9-9e2f-d2d1cecfe543",
   "metadata": {},
   "outputs": [
    {
     "data": {
      "text/plain": [
       "(#3) [Path('valid'),Path('train'),Path('labels.csv')]"
      ]
     },
     "execution_count": 5,
     "metadata": {},
     "output_type": "execute_result"
    }
   ],
   "source": [
    "path.ls()\n",
    "#This is a fastai custom function that returns a special list type called L"
   ]
  },
  {
   "cell_type": "code",
   "execution_count": 6,
   "id": "13392814-e8e6-4b1f-91fb-871364657f31",
   "metadata": {},
   "outputs": [
    {
     "data": {
      "text/plain": [
       "(#2) [Path('train/3'),Path('train/7')]"
      ]
     },
     "execution_count": 6,
     "metadata": {},
     "output_type": "execute_result"
    }
   ],
   "source": [
    "(path/'train').ls()"
   ]
  },
  {
   "cell_type": "code",
   "execution_count": 7,
   "id": "5094d5a2-3bbc-401e-9ba8-9f790c26c525",
   "metadata": {},
   "outputs": [
    {
     "data": {
      "text/plain": [
       "(#6131) [Path('train/3/10.png'),Path('train/3/10000.png'),Path('train/3/10011.png'),Path('train/3/10031.png'),Path('train/3/10034.png'),Path('train/3/10042.png'),Path('train/3/10052.png'),Path('train/3/1007.png'),Path('train/3/10074.png'),Path('train/3/10091.png'),Path('train/3/10093.png'),Path('train/3/10097.png'),Path('train/3/10099.png'),Path('train/3/10116.png'),Path('train/3/10125.png'),Path('train/3/10137.png'),Path('train/3/10141.png'),Path('train/3/10144.png'),Path('train/3/10155.png'),Path('train/3/10161.png')...]"
      ]
     },
     "execution_count": 7,
     "metadata": {},
     "output_type": "execute_result"
    }
   ],
   "source": [
    "#Lets just take a look at our data before we work with it\n",
    "threes = (path/'train'/'3').ls().sorted()\n",
    "sevens = (path/'train'/'7').ls().sorted()\n",
    "threes"
   ]
  },
  {
   "cell_type": "code",
   "execution_count": 8,
   "id": "58822d2d-579b-49de-8588-7c0c6b2fca7f",
   "metadata": {},
   "outputs": [
    {
     "data": {
      "image/jpeg": "[encoded data removed]",
      "image/png": "[encoded data removed]",
      "text/plain": [
       "<PIL.PngImagePlugin.PngImageFile image mode=L size=28x28>"
      ]
     },
     "execution_count": 8,
     "metadata": {},
     "output_type": "execute_result"
    }
   ],
   "source": [
    "#let's look at an image:\n",
    "im3_path = threes[1]\n",
    "im3 = Image.open(im3_path)\n",
    "im3"
   ]
  },
  {
   "cell_type": "code",
   "execution_count": 9,
   "id": "f4e43d4c-f709-402b-a72c-b87978c258c6",
   "metadata": {},
   "outputs": [],
   "source": [
    "#quick way to visualize the image info\n",
    "#the numbers are slicing it from 4 inclusive to 10 exclusive\n"
   ]
  },
  {
   "cell_type": "code",
   "execution_count": 10,
   "id": "f9e44d31-6392-4e17-8370-e1755d1a64c9",
   "metadata": {},
   "outputs": [
    {
     "data": {
      "text/plain": [
       "array([[  0,   0,   0,   0,   0,   0],\n",
       "       [  0,   0,   0,   0,   0,  29],\n",
       "       [  0,   0,   0,  48, 166, 224],\n",
       "       [  0,  93, 244, 249, 253, 187],\n",
       "       [  0, 107, 253, 253, 230,  48],\n",
       "       [  0,   3,  20,  20,  15,   0]], dtype=uint8)"
      ]
     },
     "execution_count": 10,
     "metadata": {},
     "output_type": "execute_result"
    }
   ],
   "source": [
    "array(im3)[4:10,4:10]"
   ]
  },
  {
   "cell_type": "code",
   "execution_count": 11,
   "id": "6fece2f7-eab0-4da0-909d-9323f2e5c567",
   "metadata": {},
   "outputs": [
    {
     "data": {
      "text/plain": [
       "tensor([[  0,   0,   0,   0,   0,   0],\n",
       "        [  0,   0,   0,   0,   0,  29],\n",
       "        [  0,   0,   0,  48, 166, 224],\n",
       "        [  0,  93, 244, 249, 253, 187],\n",
       "        [  0, 107, 253, 253, 230,  48],\n",
       "        [  0,   3,  20,  20,  15,   0]], dtype=torch.uint8)"
      ]
     },
     "execution_count": 11,
     "metadata": {},
     "output_type": "execute_result"
    }
   ],
   "source": [
    "#same thing with tensors:\n",
    "tensor(im3)[4:10,4:10]"
   ]
  },
  {
   "cell_type": "code",
   "execution_count": 12,
   "id": "e849b365-a3d6-4416-9fed-8da965baced9",
   "metadata": {},
   "outputs": [
    {
     "data": {
      "text/html": [
       "<style type=\"text/css\">\n",
       "#T_e3a83_row0_col0, #T_e3a83_row0_col1, #T_e3a83_row0_col2, #T_e3a83_row0_col3, #T_e3a83_row0_col4, #T_e3a83_row0_col5, #T_e3a83_row0_col6, #T_e3a83_row0_col7, #T_e3a83_row0_col8, #T_e3a83_row0_col9, #T_e3a83_row0_col10, #T_e3a83_row0_col11, #T_e3a83_row0_col12, #T_e3a83_row0_col13, #T_e3a83_row0_col14, #T_e3a83_row0_col15, #T_e3a83_row0_col16, #T_e3a83_row0_col17, #T_e3a83_row1_col0, #T_e3a83_row1_col1, #T_e3a83_row1_col2, #T_e3a83_row1_col3, #T_e3a83_row1_col4, #T_e3a83_row1_col15, #T_e3a83_row1_col16, #T_e3a83_row1_col17, #T_e3a83_row2_col0, #T_e3a83_row2_col1, #T_e3a83_row2_col2, #T_e3a83_row2_col15, #T_e3a83_row2_col16, #T_e3a83_row2_col17, #T_e3a83_row3_col0, #T_e3a83_row3_col15, #T_e3a83_row3_col16, #T_e3a83_row3_col17, #T_e3a83_row4_col0, #T_e3a83_row4_col6, #T_e3a83_row4_col7, #T_e3a83_row4_col8, #T_e3a83_row4_col9, #T_e3a83_row4_col10, #T_e3a83_row4_col15, #T_e3a83_row4_col16, #T_e3a83_row4_col17, #T_e3a83_row5_col0, #T_e3a83_row5_col5, #T_e3a83_row5_col6, #T_e3a83_row5_col7, #T_e3a83_row5_col8, #T_e3a83_row5_col9, #T_e3a83_row5_col15, #T_e3a83_row5_col16, #T_e3a83_row5_col17, #T_e3a83_row6_col0, #T_e3a83_row6_col1, #T_e3a83_row6_col2, #T_e3a83_row6_col3, #T_e3a83_row6_col4, #T_e3a83_row6_col5, #T_e3a83_row6_col6, #T_e3a83_row6_col7, #T_e3a83_row6_col8, #T_e3a83_row6_col9, #T_e3a83_row6_col14, #T_e3a83_row6_col15, #T_e3a83_row6_col16, #T_e3a83_row6_col17, #T_e3a83_row7_col0, #T_e3a83_row7_col1, #T_e3a83_row7_col2, #T_e3a83_row7_col3, #T_e3a83_row7_col4, #T_e3a83_row7_col5, #T_e3a83_row7_col6, #T_e3a83_row7_col13, #T_e3a83_row7_col14, #T_e3a83_row7_col15, #T_e3a83_row7_col16, #T_e3a83_row7_col17, #T_e3a83_row8_col0, #T_e3a83_row8_col1, #T_e3a83_row8_col2, #T_e3a83_row8_col3, #T_e3a83_row8_col4, #T_e3a83_row8_col13, #T_e3a83_row8_col14, #T_e3a83_row8_col15, #T_e3a83_row8_col16, #T_e3a83_row8_col17, #T_e3a83_row9_col0, #T_e3a83_row9_col1, #T_e3a83_row9_col2, #T_e3a83_row9_col3, #T_e3a83_row9_col4, #T_e3a83_row9_col16, #T_e3a83_row9_col17, #T_e3a83_row10_col0, #T_e3a83_row10_col1, #T_e3a83_row10_col2, #T_e3a83_row10_col3, #T_e3a83_row10_col4, #T_e3a83_row10_col5, #T_e3a83_row10_col6, #T_e3a83_row10_col17 {\n",
       "  font-size: 6pt;\n",
       "  background-color: #ffffff;\n",
       "  color: #000000;\n",
       "}\n",
       "#T_e3a83_row1_col5 {\n",
       "  font-size: 6pt;\n",
       "  background-color: #efefef;\n",
       "  color: #000000;\n",
       "}\n",
       "#T_e3a83_row1_col6, #T_e3a83_row1_col13 {\n",
       "  font-size: 6pt;\n",
       "  background-color: #7c7c7c;\n",
       "  color: #f1f1f1;\n",
       "}\n",
       "#T_e3a83_row1_col7 {\n",
       "  font-size: 6pt;\n",
       "  background-color: #4a4a4a;\n",
       "  color: #f1f1f1;\n",
       "}\n",
       "#T_e3a83_row1_col8, #T_e3a83_row1_col9, #T_e3a83_row1_col10, #T_e3a83_row2_col5, #T_e3a83_row2_col6, #T_e3a83_row2_col7, #T_e3a83_row2_col11, #T_e3a83_row2_col12, #T_e3a83_row2_col13, #T_e3a83_row3_col4, #T_e3a83_row3_col12, #T_e3a83_row3_col13, #T_e3a83_row4_col1, #T_e3a83_row4_col2, #T_e3a83_row4_col3, #T_e3a83_row4_col12, #T_e3a83_row4_col13, #T_e3a83_row5_col12, #T_e3a83_row6_col11, #T_e3a83_row9_col11, #T_e3a83_row10_col11, #T_e3a83_row10_col12, #T_e3a83_row10_col13, #T_e3a83_row10_col14, #T_e3a83_row10_col15, #T_e3a83_row10_col16 {\n",
       "  font-size: 6pt;\n",
       "  background-color: #000000;\n",
       "  color: #f1f1f1;\n",
       "}\n",
       "#T_e3a83_row1_col11 {\n",
       "  font-size: 6pt;\n",
       "  background-color: #606060;\n",
       "  color: #f1f1f1;\n",
       "}\n",
       "#T_e3a83_row1_col12 {\n",
       "  font-size: 6pt;\n",
       "  background-color: #4d4d4d;\n",
       "  color: #f1f1f1;\n",
       "}\n",
       "#T_e3a83_row1_col14 {\n",
       "  font-size: 6pt;\n",
       "  background-color: #bbbbbb;\n",
       "  color: #000000;\n",
       "}\n",
       "#T_e3a83_row2_col3 {\n",
       "  font-size: 6pt;\n",
       "  background-color: #e4e4e4;\n",
       "  color: #000000;\n",
       "}\n",
       "#T_e3a83_row2_col4, #T_e3a83_row8_col6 {\n",
       "  font-size: 6pt;\n",
       "  background-color: #6b6b6b;\n",
       "  color: #f1f1f1;\n",
       "}\n",
       "#T_e3a83_row2_col8, #T_e3a83_row2_col14, #T_e3a83_row3_col14 {\n",
       "  font-size: 6pt;\n",
       "  background-color: #171717;\n",
       "  color: #f1f1f1;\n",
       "}\n",
       "#T_e3a83_row2_col9, #T_e3a83_row3_col11 {\n",
       "  font-size: 6pt;\n",
       "  background-color: #4b4b4b;\n",
       "  color: #f1f1f1;\n",
       "}\n",
       "#T_e3a83_row2_col10, #T_e3a83_row7_col10, #T_e3a83_row8_col8, #T_e3a83_row8_col10, #T_e3a83_row9_col8, #T_e3a83_row9_col10 {\n",
       "  font-size: 6pt;\n",
       "  background-color: #010101;\n",
       "  color: #f1f1f1;\n",
       "}\n",
       "#T_e3a83_row3_col1 {\n",
       "  font-size: 6pt;\n",
       "  background-color: #272727;\n",
       "  color: #f1f1f1;\n",
       "}\n",
       "#T_e3a83_row3_col2 {\n",
       "  font-size: 6pt;\n",
       "  background-color: #0a0a0a;\n",
       "  color: #f1f1f1;\n",
       "}\n",
       "#T_e3a83_row3_col3 {\n",
       "  font-size: 6pt;\n",
       "  background-color: #050505;\n",
       "  color: #f1f1f1;\n",
       "}\n",
       "#T_e3a83_row3_col5 {\n",
       "  font-size: 6pt;\n",
       "  background-color: #333333;\n",
       "  color: #f1f1f1;\n",
       "}\n",
       "#T_e3a83_row3_col6 {\n",
       "  font-size: 6pt;\n",
       "  background-color: #e6e6e6;\n",
       "  color: #000000;\n",
       "}\n",
       "#T_e3a83_row3_col7, #T_e3a83_row3_col10 {\n",
       "  font-size: 6pt;\n",
       "  background-color: #fafafa;\n",
       "  color: #000000;\n",
       "}\n",
       "#T_e3a83_row3_col8 {\n",
       "  font-size: 6pt;\n",
       "  background-color: #fbfbfb;\n",
       "  color: #000000;\n",
       "}\n",
       "#T_e3a83_row3_col9 {\n",
       "  font-size: 6pt;\n",
       "  background-color: #fdfdfd;\n",
       "  color: #000000;\n",
       "}\n",
       "#T_e3a83_row4_col4 {\n",
       "  font-size: 6pt;\n",
       "  background-color: #1b1b1b;\n",
       "  color: #f1f1f1;\n",
       "}\n",
       "#T_e3a83_row4_col5 {\n",
       "  font-size: 6pt;\n",
       "  background-color: #e0e0e0;\n",
       "  color: #000000;\n",
       "}\n",
       "#T_e3a83_row4_col11 {\n",
       "  font-size: 6pt;\n",
       "  background-color: #4e4e4e;\n",
       "  color: #f1f1f1;\n",
       "}\n",
       "#T_e3a83_row4_col14 {\n",
       "  font-size: 6pt;\n",
       "  background-color: #767676;\n",
       "  color: #f1f1f1;\n",
       "}\n",
       "#T_e3a83_row5_col1 {\n",
       "  font-size: 6pt;\n",
       "  background-color: #fcfcfc;\n",
       "  color: #000000;\n",
       "}\n",
       "#T_e3a83_row5_col2, #T_e3a83_row5_col3 {\n",
       "  font-size: 6pt;\n",
       "  background-color: #f6f6f6;\n",
       "  color: #000000;\n",
       "}\n",
       "#T_e3a83_row5_col4, #T_e3a83_row7_col7 {\n",
       "  font-size: 6pt;\n",
       "  background-color: #f8f8f8;\n",
       "  color: #000000;\n",
       "}\n",
       "#T_e3a83_row5_col10, #T_e3a83_row10_col7 {\n",
       "  font-size: 6pt;\n",
       "  background-color: #e8e8e8;\n",
       "  color: #000000;\n",
       "}\n",
       "#T_e3a83_row5_col11 {\n",
       "  font-size: 6pt;\n",
       "  background-color: #222222;\n",
       "  color: #f1f1f1;\n",
       "}\n",
       "#T_e3a83_row5_col13, #T_e3a83_row6_col12 {\n",
       "  font-size: 6pt;\n",
       "  background-color: #090909;\n",
       "  color: #f1f1f1;\n",
       "}\n",
       "#T_e3a83_row5_col14 {\n",
       "  font-size: 6pt;\n",
       "  background-color: #d0d0d0;\n",
       "  color: #000000;\n",
       "}\n",
       "#T_e3a83_row6_col10, #T_e3a83_row7_col11, #T_e3a83_row9_col6 {\n",
       "  font-size: 6pt;\n",
       "  background-color: #060606;\n",
       "  color: #f1f1f1;\n",
       "}\n",
       "#T_e3a83_row6_col13 {\n",
       "  font-size: 6pt;\n",
       "  background-color: #979797;\n",
       "  color: #f1f1f1;\n",
       "}\n",
       "#T_e3a83_row7_col8 {\n",
       "  font-size: 6pt;\n",
       "  background-color: #b6b6b6;\n",
       "  color: #000000;\n",
       "}\n",
       "#T_e3a83_row7_col9 {\n",
       "  font-size: 6pt;\n",
       "  background-color: #252525;\n",
       "  color: #f1f1f1;\n",
       "}\n",
       "#T_e3a83_row7_col12 {\n",
       "  font-size: 6pt;\n",
       "  background-color: #999999;\n",
       "  color: #f1f1f1;\n",
       "}\n",
       "#T_e3a83_row8_col5 {\n",
       "  font-size: 6pt;\n",
       "  background-color: #f9f9f9;\n",
       "  color: #000000;\n",
       "}\n",
       "#T_e3a83_row8_col7 {\n",
       "  font-size: 6pt;\n",
       "  background-color: #101010;\n",
       "  color: #f1f1f1;\n",
       "}\n",
       "#T_e3a83_row8_col9, #T_e3a83_row9_col9 {\n",
       "  font-size: 6pt;\n",
       "  background-color: #020202;\n",
       "  color: #f1f1f1;\n",
       "}\n",
       "#T_e3a83_row8_col11 {\n",
       "  font-size: 6pt;\n",
       "  background-color: #545454;\n",
       "  color: #f1f1f1;\n",
       "}\n",
       "#T_e3a83_row8_col12 {\n",
       "  font-size: 6pt;\n",
       "  background-color: #f1f1f1;\n",
       "  color: #000000;\n",
       "}\n",
       "#T_e3a83_row9_col5 {\n",
       "  font-size: 6pt;\n",
       "  background-color: #f7f7f7;\n",
       "  color: #000000;\n",
       "}\n",
       "#T_e3a83_row9_col7 {\n",
       "  font-size: 6pt;\n",
       "  background-color: #030303;\n",
       "  color: #f1f1f1;\n",
       "}\n",
       "#T_e3a83_row9_col12 {\n",
       "  font-size: 6pt;\n",
       "  background-color: #181818;\n",
       "  color: #f1f1f1;\n",
       "}\n",
       "#T_e3a83_row9_col13 {\n",
       "  font-size: 6pt;\n",
       "  background-color: #303030;\n",
       "  color: #f1f1f1;\n",
       "}\n",
       "#T_e3a83_row9_col14 {\n",
       "  font-size: 6pt;\n",
       "  background-color: #a9a9a9;\n",
       "  color: #f1f1f1;\n",
       "}\n",
       "#T_e3a83_row9_col15 {\n",
       "  font-size: 6pt;\n",
       "  background-color: #fefefe;\n",
       "  color: #000000;\n",
       "}\n",
       "#T_e3a83_row10_col8, #T_e3a83_row10_col9 {\n",
       "  font-size: 6pt;\n",
       "  background-color: #bababa;\n",
       "  color: #000000;\n",
       "}\n",
       "#T_e3a83_row10_col10 {\n",
       "  font-size: 6pt;\n",
       "  background-color: #393939;\n",
       "  color: #f1f1f1;\n",
       "}\n",
       "</style>\n",
       "<table id=\"T_e3a83\">\n",
       "  <thead>\n",
       "    <tr>\n",
       "      <th class=\"blank level0\" >&nbsp;</th>\n",
       "      <th id=\"T_e3a83_level0_col0\" class=\"col_heading level0 col0\" >0</th>\n",
       "      <th id=\"T_e3a83_level0_col1\" class=\"col_heading level0 col1\" >1</th>\n",
       "      <th id=\"T_e3a83_level0_col2\" class=\"col_heading level0 col2\" >2</th>\n",
       "      <th id=\"T_e3a83_level0_col3\" class=\"col_heading level0 col3\" >3</th>\n",
       "      <th id=\"T_e3a83_level0_col4\" class=\"col_heading level0 col4\" >4</th>\n",
       "      <th id=\"T_e3a83_level0_col5\" class=\"col_heading level0 col5\" >5</th>\n",
       "      <th id=\"T_e3a83_level0_col6\" class=\"col_heading level0 col6\" >6</th>\n",
       "      <th id=\"T_e3a83_level0_col7\" class=\"col_heading level0 col7\" >7</th>\n",
       "      <th id=\"T_e3a83_level0_col8\" class=\"col_heading level0 col8\" >8</th>\n",
       "      <th id=\"T_e3a83_level0_col9\" class=\"col_heading level0 col9\" >9</th>\n",
       "      <th id=\"T_e3a83_level0_col10\" class=\"col_heading level0 col10\" >10</th>\n",
       "      <th id=\"T_e3a83_level0_col11\" class=\"col_heading level0 col11\" >11</th>\n",
       "      <th id=\"T_e3a83_level0_col12\" class=\"col_heading level0 col12\" >12</th>\n",
       "      <th id=\"T_e3a83_level0_col13\" class=\"col_heading level0 col13\" >13</th>\n",
       "      <th id=\"T_e3a83_level0_col14\" class=\"col_heading level0 col14\" >14</th>\n",
       "      <th id=\"T_e3a83_level0_col15\" class=\"col_heading level0 col15\" >15</th>\n",
       "      <th id=\"T_e3a83_level0_col16\" class=\"col_heading level0 col16\" >16</th>\n",
       "      <th id=\"T_e3a83_level0_col17\" class=\"col_heading level0 col17\" >17</th>\n",
       "    </tr>\n",
       "  </thead>\n",
       "  <tbody>\n",
       "    <tr>\n",
       "      <th id=\"T_e3a83_level0_row0\" class=\"row_heading level0 row0\" >0</th>\n",
       "      <td id=\"T_e3a83_row0_col0\" class=\"data row0 col0\" >0</td>\n",
       "      <td id=\"T_e3a83_row0_col1\" class=\"data row0 col1\" >0</td>\n",
       "      <td id=\"T_e3a83_row0_col2\" class=\"data row0 col2\" >0</td>\n",
       "      <td id=\"T_e3a83_row0_col3\" class=\"data row0 col3\" >0</td>\n",
       "      <td id=\"T_e3a83_row0_col4\" class=\"data row0 col4\" >0</td>\n",
       "      <td id=\"T_e3a83_row0_col5\" class=\"data row0 col5\" >0</td>\n",
       "      <td id=\"T_e3a83_row0_col6\" class=\"data row0 col6\" >0</td>\n",
       "      <td id=\"T_e3a83_row0_col7\" class=\"data row0 col7\" >0</td>\n",
       "      <td id=\"T_e3a83_row0_col8\" class=\"data row0 col8\" >0</td>\n",
       "      <td id=\"T_e3a83_row0_col9\" class=\"data row0 col9\" >0</td>\n",
       "      <td id=\"T_e3a83_row0_col10\" class=\"data row0 col10\" >0</td>\n",
       "      <td id=\"T_e3a83_row0_col11\" class=\"data row0 col11\" >0</td>\n",
       "      <td id=\"T_e3a83_row0_col12\" class=\"data row0 col12\" >0</td>\n",
       "      <td id=\"T_e3a83_row0_col13\" class=\"data row0 col13\" >0</td>\n",
       "      <td id=\"T_e3a83_row0_col14\" class=\"data row0 col14\" >0</td>\n",
       "      <td id=\"T_e3a83_row0_col15\" class=\"data row0 col15\" >0</td>\n",
       "      <td id=\"T_e3a83_row0_col16\" class=\"data row0 col16\" >0</td>\n",
       "      <td id=\"T_e3a83_row0_col17\" class=\"data row0 col17\" >0</td>\n",
       "    </tr>\n",
       "    <tr>\n",
       "      <th id=\"T_e3a83_level0_row1\" class=\"row_heading level0 row1\" >1</th>\n",
       "      <td id=\"T_e3a83_row1_col0\" class=\"data row1 col0\" >0</td>\n",
       "      <td id=\"T_e3a83_row1_col1\" class=\"data row1 col1\" >0</td>\n",
       "      <td id=\"T_e3a83_row1_col2\" class=\"data row1 col2\" >0</td>\n",
       "      <td id=\"T_e3a83_row1_col3\" class=\"data row1 col3\" >0</td>\n",
       "      <td id=\"T_e3a83_row1_col4\" class=\"data row1 col4\" >0</td>\n",
       "      <td id=\"T_e3a83_row1_col5\" class=\"data row1 col5\" >29</td>\n",
       "      <td id=\"T_e3a83_row1_col6\" class=\"data row1 col6\" >150</td>\n",
       "      <td id=\"T_e3a83_row1_col7\" class=\"data row1 col7\" >195</td>\n",
       "      <td id=\"T_e3a83_row1_col8\" class=\"data row1 col8\" >254</td>\n",
       "      <td id=\"T_e3a83_row1_col9\" class=\"data row1 col9\" >255</td>\n",
       "      <td id=\"T_e3a83_row1_col10\" class=\"data row1 col10\" >254</td>\n",
       "      <td id=\"T_e3a83_row1_col11\" class=\"data row1 col11\" >176</td>\n",
       "      <td id=\"T_e3a83_row1_col12\" class=\"data row1 col12\" >193</td>\n",
       "      <td id=\"T_e3a83_row1_col13\" class=\"data row1 col13\" >150</td>\n",
       "      <td id=\"T_e3a83_row1_col14\" class=\"data row1 col14\" >96</td>\n",
       "      <td id=\"T_e3a83_row1_col15\" class=\"data row1 col15\" >0</td>\n",
       "      <td id=\"T_e3a83_row1_col16\" class=\"data row1 col16\" >0</td>\n",
       "      <td id=\"T_e3a83_row1_col17\" class=\"data row1 col17\" >0</td>\n",
       "    </tr>\n",
       "    <tr>\n",
       "      <th id=\"T_e3a83_level0_row2\" class=\"row_heading level0 row2\" >2</th>\n",
       "      <td id=\"T_e3a83_row2_col0\" class=\"data row2 col0\" >0</td>\n",
       "      <td id=\"T_e3a83_row2_col1\" class=\"data row2 col1\" >0</td>\n",
       "      <td id=\"T_e3a83_row2_col2\" class=\"data row2 col2\" >0</td>\n",
       "      <td id=\"T_e3a83_row2_col3\" class=\"data row2 col3\" >48</td>\n",
       "      <td id=\"T_e3a83_row2_col4\" class=\"data row2 col4\" >166</td>\n",
       "      <td id=\"T_e3a83_row2_col5\" class=\"data row2 col5\" >224</td>\n",
       "      <td id=\"T_e3a83_row2_col6\" class=\"data row2 col6\" >253</td>\n",
       "      <td id=\"T_e3a83_row2_col7\" class=\"data row2 col7\" >253</td>\n",
       "      <td id=\"T_e3a83_row2_col8\" class=\"data row2 col8\" >234</td>\n",
       "      <td id=\"T_e3a83_row2_col9\" class=\"data row2 col9\" >196</td>\n",
       "      <td id=\"T_e3a83_row2_col10\" class=\"data row2 col10\" >253</td>\n",
       "      <td id=\"T_e3a83_row2_col11\" class=\"data row2 col11\" >253</td>\n",
       "      <td id=\"T_e3a83_row2_col12\" class=\"data row2 col12\" >253</td>\n",
       "      <td id=\"T_e3a83_row2_col13\" class=\"data row2 col13\" >253</td>\n",
       "      <td id=\"T_e3a83_row2_col14\" class=\"data row2 col14\" >233</td>\n",
       "      <td id=\"T_e3a83_row2_col15\" class=\"data row2 col15\" >0</td>\n",
       "      <td id=\"T_e3a83_row2_col16\" class=\"data row2 col16\" >0</td>\n",
       "      <td id=\"T_e3a83_row2_col17\" class=\"data row2 col17\" >0</td>\n",
       "    </tr>\n",
       "    <tr>\n",
       "      <th id=\"T_e3a83_level0_row3\" class=\"row_heading level0 row3\" >3</th>\n",
       "      <td id=\"T_e3a83_row3_col0\" class=\"data row3 col0\" >0</td>\n",
       "      <td id=\"T_e3a83_row3_col1\" class=\"data row3 col1\" >93</td>\n",
       "      <td id=\"T_e3a83_row3_col2\" class=\"data row3 col2\" >244</td>\n",
       "      <td id=\"T_e3a83_row3_col3\" class=\"data row3 col3\" >249</td>\n",
       "      <td id=\"T_e3a83_row3_col4\" class=\"data row3 col4\" >253</td>\n",
       "      <td id=\"T_e3a83_row3_col5\" class=\"data row3 col5\" >187</td>\n",
       "      <td id=\"T_e3a83_row3_col6\" class=\"data row3 col6\" >46</td>\n",
       "      <td id=\"T_e3a83_row3_col7\" class=\"data row3 col7\" >10</td>\n",
       "      <td id=\"T_e3a83_row3_col8\" class=\"data row3 col8\" >8</td>\n",
       "      <td id=\"T_e3a83_row3_col9\" class=\"data row3 col9\" >4</td>\n",
       "      <td id=\"T_e3a83_row3_col10\" class=\"data row3 col10\" >10</td>\n",
       "      <td id=\"T_e3a83_row3_col11\" class=\"data row3 col11\" >194</td>\n",
       "      <td id=\"T_e3a83_row3_col12\" class=\"data row3 col12\" >253</td>\n",
       "      <td id=\"T_e3a83_row3_col13\" class=\"data row3 col13\" >253</td>\n",
       "      <td id=\"T_e3a83_row3_col14\" class=\"data row3 col14\" >233</td>\n",
       "      <td id=\"T_e3a83_row3_col15\" class=\"data row3 col15\" >0</td>\n",
       "      <td id=\"T_e3a83_row3_col16\" class=\"data row3 col16\" >0</td>\n",
       "      <td id=\"T_e3a83_row3_col17\" class=\"data row3 col17\" >0</td>\n",
       "    </tr>\n",
       "    <tr>\n",
       "      <th id=\"T_e3a83_level0_row4\" class=\"row_heading level0 row4\" >4</th>\n",
       "      <td id=\"T_e3a83_row4_col0\" class=\"data row4 col0\" >0</td>\n",
       "      <td id=\"T_e3a83_row4_col1\" class=\"data row4 col1\" >107</td>\n",
       "      <td id=\"T_e3a83_row4_col2\" class=\"data row4 col2\" >253</td>\n",
       "      <td id=\"T_e3a83_row4_col3\" class=\"data row4 col3\" >253</td>\n",
       "      <td id=\"T_e3a83_row4_col4\" class=\"data row4 col4\" >230</td>\n",
       "      <td id=\"T_e3a83_row4_col5\" class=\"data row4 col5\" >48</td>\n",
       "      <td id=\"T_e3a83_row4_col6\" class=\"data row4 col6\" >0</td>\n",
       "      <td id=\"T_e3a83_row4_col7\" class=\"data row4 col7\" >0</td>\n",
       "      <td id=\"T_e3a83_row4_col8\" class=\"data row4 col8\" >0</td>\n",
       "      <td id=\"T_e3a83_row4_col9\" class=\"data row4 col9\" >0</td>\n",
       "      <td id=\"T_e3a83_row4_col10\" class=\"data row4 col10\" >0</td>\n",
       "      <td id=\"T_e3a83_row4_col11\" class=\"data row4 col11\" >192</td>\n",
       "      <td id=\"T_e3a83_row4_col12\" class=\"data row4 col12\" >253</td>\n",
       "      <td id=\"T_e3a83_row4_col13\" class=\"data row4 col13\" >253</td>\n",
       "      <td id=\"T_e3a83_row4_col14\" class=\"data row4 col14\" >156</td>\n",
       "      <td id=\"T_e3a83_row4_col15\" class=\"data row4 col15\" >0</td>\n",
       "      <td id=\"T_e3a83_row4_col16\" class=\"data row4 col16\" >0</td>\n",
       "      <td id=\"T_e3a83_row4_col17\" class=\"data row4 col17\" >0</td>\n",
       "    </tr>\n",
       "    <tr>\n",
       "      <th id=\"T_e3a83_level0_row5\" class=\"row_heading level0 row5\" >5</th>\n",
       "      <td id=\"T_e3a83_row5_col0\" class=\"data row5 col0\" >0</td>\n",
       "      <td id=\"T_e3a83_row5_col1\" class=\"data row5 col1\" >3</td>\n",
       "      <td id=\"T_e3a83_row5_col2\" class=\"data row5 col2\" >20</td>\n",
       "      <td id=\"T_e3a83_row5_col3\" class=\"data row5 col3\" >20</td>\n",
       "      <td id=\"T_e3a83_row5_col4\" class=\"data row5 col4\" >15</td>\n",
       "      <td id=\"T_e3a83_row5_col5\" class=\"data row5 col5\" >0</td>\n",
       "      <td id=\"T_e3a83_row5_col6\" class=\"data row5 col6\" >0</td>\n",
       "      <td id=\"T_e3a83_row5_col7\" class=\"data row5 col7\" >0</td>\n",
       "      <td id=\"T_e3a83_row5_col8\" class=\"data row5 col8\" >0</td>\n",
       "      <td id=\"T_e3a83_row5_col9\" class=\"data row5 col9\" >0</td>\n",
       "      <td id=\"T_e3a83_row5_col10\" class=\"data row5 col10\" >43</td>\n",
       "      <td id=\"T_e3a83_row5_col11\" class=\"data row5 col11\" >224</td>\n",
       "      <td id=\"T_e3a83_row5_col12\" class=\"data row5 col12\" >253</td>\n",
       "      <td id=\"T_e3a83_row5_col13\" class=\"data row5 col13\" >245</td>\n",
       "      <td id=\"T_e3a83_row5_col14\" class=\"data row5 col14\" >74</td>\n",
       "      <td id=\"T_e3a83_row5_col15\" class=\"data row5 col15\" >0</td>\n",
       "      <td id=\"T_e3a83_row5_col16\" class=\"data row5 col16\" >0</td>\n",
       "      <td id=\"T_e3a83_row5_col17\" class=\"data row5 col17\" >0</td>\n",
       "    </tr>\n",
       "    <tr>\n",
       "      <th id=\"T_e3a83_level0_row6\" class=\"row_heading level0 row6\" >6</th>\n",
       "      <td id=\"T_e3a83_row6_col0\" class=\"data row6 col0\" >0</td>\n",
       "      <td id=\"T_e3a83_row6_col1\" class=\"data row6 col1\" >0</td>\n",
       "      <td id=\"T_e3a83_row6_col2\" class=\"data row6 col2\" >0</td>\n",
       "      <td id=\"T_e3a83_row6_col3\" class=\"data row6 col3\" >0</td>\n",
       "      <td id=\"T_e3a83_row6_col4\" class=\"data row6 col4\" >0</td>\n",
       "      <td id=\"T_e3a83_row6_col5\" class=\"data row6 col5\" >0</td>\n",
       "      <td id=\"T_e3a83_row6_col6\" class=\"data row6 col6\" >0</td>\n",
       "      <td id=\"T_e3a83_row6_col7\" class=\"data row6 col7\" >0</td>\n",
       "      <td id=\"T_e3a83_row6_col8\" class=\"data row6 col8\" >0</td>\n",
       "      <td id=\"T_e3a83_row6_col9\" class=\"data row6 col9\" >0</td>\n",
       "      <td id=\"T_e3a83_row6_col10\" class=\"data row6 col10\" >249</td>\n",
       "      <td id=\"T_e3a83_row6_col11\" class=\"data row6 col11\" >253</td>\n",
       "      <td id=\"T_e3a83_row6_col12\" class=\"data row6 col12\" >245</td>\n",
       "      <td id=\"T_e3a83_row6_col13\" class=\"data row6 col13\" >126</td>\n",
       "      <td id=\"T_e3a83_row6_col14\" class=\"data row6 col14\" >0</td>\n",
       "      <td id=\"T_e3a83_row6_col15\" class=\"data row6 col15\" >0</td>\n",
       "      <td id=\"T_e3a83_row6_col16\" class=\"data row6 col16\" >0</td>\n",
       "      <td id=\"T_e3a83_row6_col17\" class=\"data row6 col17\" >0</td>\n",
       "    </tr>\n",
       "    <tr>\n",
       "      <th id=\"T_e3a83_level0_row7\" class=\"row_heading level0 row7\" >7</th>\n",
       "      <td id=\"T_e3a83_row7_col0\" class=\"data row7 col0\" >0</td>\n",
       "      <td id=\"T_e3a83_row7_col1\" class=\"data row7 col1\" >0</td>\n",
       "      <td id=\"T_e3a83_row7_col2\" class=\"data row7 col2\" >0</td>\n",
       "      <td id=\"T_e3a83_row7_col3\" class=\"data row7 col3\" >0</td>\n",
       "      <td id=\"T_e3a83_row7_col4\" class=\"data row7 col4\" >0</td>\n",
       "      <td id=\"T_e3a83_row7_col5\" class=\"data row7 col5\" >0</td>\n",
       "      <td id=\"T_e3a83_row7_col6\" class=\"data row7 col6\" >0</td>\n",
       "      <td id=\"T_e3a83_row7_col7\" class=\"data row7 col7\" >14</td>\n",
       "      <td id=\"T_e3a83_row7_col8\" class=\"data row7 col8\" >101</td>\n",
       "      <td id=\"T_e3a83_row7_col9\" class=\"data row7 col9\" >223</td>\n",
       "      <td id=\"T_e3a83_row7_col10\" class=\"data row7 col10\" >253</td>\n",
       "      <td id=\"T_e3a83_row7_col11\" class=\"data row7 col11\" >248</td>\n",
       "      <td id=\"T_e3a83_row7_col12\" class=\"data row7 col12\" >124</td>\n",
       "      <td id=\"T_e3a83_row7_col13\" class=\"data row7 col13\" >0</td>\n",
       "      <td id=\"T_e3a83_row7_col14\" class=\"data row7 col14\" >0</td>\n",
       "      <td id=\"T_e3a83_row7_col15\" class=\"data row7 col15\" >0</td>\n",
       "      <td id=\"T_e3a83_row7_col16\" class=\"data row7 col16\" >0</td>\n",
       "      <td id=\"T_e3a83_row7_col17\" class=\"data row7 col17\" >0</td>\n",
       "    </tr>\n",
       "    <tr>\n",
       "      <th id=\"T_e3a83_level0_row8\" class=\"row_heading level0 row8\" >8</th>\n",
       "      <td id=\"T_e3a83_row8_col0\" class=\"data row8 col0\" >0</td>\n",
       "      <td id=\"T_e3a83_row8_col1\" class=\"data row8 col1\" >0</td>\n",
       "      <td id=\"T_e3a83_row8_col2\" class=\"data row8 col2\" >0</td>\n",
       "      <td id=\"T_e3a83_row8_col3\" class=\"data row8 col3\" >0</td>\n",
       "      <td id=\"T_e3a83_row8_col4\" class=\"data row8 col4\" >0</td>\n",
       "      <td id=\"T_e3a83_row8_col5\" class=\"data row8 col5\" >11</td>\n",
       "      <td id=\"T_e3a83_row8_col6\" class=\"data row8 col6\" >166</td>\n",
       "      <td id=\"T_e3a83_row8_col7\" class=\"data row8 col7\" >239</td>\n",
       "      <td id=\"T_e3a83_row8_col8\" class=\"data row8 col8\" >253</td>\n",
       "      <td id=\"T_e3a83_row8_col9\" class=\"data row8 col9\" >253</td>\n",
       "      <td id=\"T_e3a83_row8_col10\" class=\"data row8 col10\" >253</td>\n",
       "      <td id=\"T_e3a83_row8_col11\" class=\"data row8 col11\" >187</td>\n",
       "      <td id=\"T_e3a83_row8_col12\" class=\"data row8 col12\" >30</td>\n",
       "      <td id=\"T_e3a83_row8_col13\" class=\"data row8 col13\" >0</td>\n",
       "      <td id=\"T_e3a83_row8_col14\" class=\"data row8 col14\" >0</td>\n",
       "      <td id=\"T_e3a83_row8_col15\" class=\"data row8 col15\" >0</td>\n",
       "      <td id=\"T_e3a83_row8_col16\" class=\"data row8 col16\" >0</td>\n",
       "      <td id=\"T_e3a83_row8_col17\" class=\"data row8 col17\" >0</td>\n",
       "    </tr>\n",
       "    <tr>\n",
       "      <th id=\"T_e3a83_level0_row9\" class=\"row_heading level0 row9\" >9</th>\n",
       "      <td id=\"T_e3a83_row9_col0\" class=\"data row9 col0\" >0</td>\n",
       "      <td id=\"T_e3a83_row9_col1\" class=\"data row9 col1\" >0</td>\n",
       "      <td id=\"T_e3a83_row9_col2\" class=\"data row9 col2\" >0</td>\n",
       "      <td id=\"T_e3a83_row9_col3\" class=\"data row9 col3\" >0</td>\n",
       "      <td id=\"T_e3a83_row9_col4\" class=\"data row9 col4\" >0</td>\n",
       "      <td id=\"T_e3a83_row9_col5\" class=\"data row9 col5\" >16</td>\n",
       "      <td id=\"T_e3a83_row9_col6\" class=\"data row9 col6\" >248</td>\n",
       "      <td id=\"T_e3a83_row9_col7\" class=\"data row9 col7\" >250</td>\n",
       "      <td id=\"T_e3a83_row9_col8\" class=\"data row9 col8\" >253</td>\n",
       "      <td id=\"T_e3a83_row9_col9\" class=\"data row9 col9\" >253</td>\n",
       "      <td id=\"T_e3a83_row9_col10\" class=\"data row9 col10\" >253</td>\n",
       "      <td id=\"T_e3a83_row9_col11\" class=\"data row9 col11\" >253</td>\n",
       "      <td id=\"T_e3a83_row9_col12\" class=\"data row9 col12\" >232</td>\n",
       "      <td id=\"T_e3a83_row9_col13\" class=\"data row9 col13\" >213</td>\n",
       "      <td id=\"T_e3a83_row9_col14\" class=\"data row9 col14\" >111</td>\n",
       "      <td id=\"T_e3a83_row9_col15\" class=\"data row9 col15\" >2</td>\n",
       "      <td id=\"T_e3a83_row9_col16\" class=\"data row9 col16\" >0</td>\n",
       "      <td id=\"T_e3a83_row9_col17\" class=\"data row9 col17\" >0</td>\n",
       "    </tr>\n",
       "    <tr>\n",
       "      <th id=\"T_e3a83_level0_row10\" class=\"row_heading level0 row10\" >10</th>\n",
       "      <td id=\"T_e3a83_row10_col0\" class=\"data row10 col0\" >0</td>\n",
       "      <td id=\"T_e3a83_row10_col1\" class=\"data row10 col1\" >0</td>\n",
       "      <td id=\"T_e3a83_row10_col2\" class=\"data row10 col2\" >0</td>\n",
       "      <td id=\"T_e3a83_row10_col3\" class=\"data row10 col3\" >0</td>\n",
       "      <td id=\"T_e3a83_row10_col4\" class=\"data row10 col4\" >0</td>\n",
       "      <td id=\"T_e3a83_row10_col5\" class=\"data row10 col5\" >0</td>\n",
       "      <td id=\"T_e3a83_row10_col6\" class=\"data row10 col6\" >0</td>\n",
       "      <td id=\"T_e3a83_row10_col7\" class=\"data row10 col7\" >43</td>\n",
       "      <td id=\"T_e3a83_row10_col8\" class=\"data row10 col8\" >98</td>\n",
       "      <td id=\"T_e3a83_row10_col9\" class=\"data row10 col9\" >98</td>\n",
       "      <td id=\"T_e3a83_row10_col10\" class=\"data row10 col10\" >208</td>\n",
       "      <td id=\"T_e3a83_row10_col11\" class=\"data row10 col11\" >253</td>\n",
       "      <td id=\"T_e3a83_row10_col12\" class=\"data row10 col12\" >253</td>\n",
       "      <td id=\"T_e3a83_row10_col13\" class=\"data row10 col13\" >253</td>\n",
       "      <td id=\"T_e3a83_row10_col14\" class=\"data row10 col14\" >253</td>\n",
       "      <td id=\"T_e3a83_row10_col15\" class=\"data row10 col15\" >187</td>\n",
       "      <td id=\"T_e3a83_row10_col16\" class=\"data row10 col16\" >22</td>\n",
       "      <td id=\"T_e3a83_row10_col17\" class=\"data row10 col17\" >0</td>\n",
       "    </tr>\n",
       "  </tbody>\n",
       "</table>\n"
      ],
      "text/plain": [
       "<pandas.io.formats.style.Styler at 0x7a6a9f365850>"
      ]
     },
     "execution_count": 12,
     "metadata": {},
     "output_type": "execute_result"
    }
   ],
   "source": [
    "#pd here is panda, we could do to learn more about it.\n",
    "im3_t = tensor(im3)\n",
    "df = pd.DataFrame(im3_t[4:15,4:22])\n",
    "df.style.set_properties(**{'font-size':'6pt'}).background_gradient('Greys')"
   ]
  },
  {
   "cell_type": "markdown",
   "id": "d907a6ac-76f9-49c0-9199-384c6d94685b",
   "metadata": {},
   "source": [
    "#but anyway that represents a digit fairly well.\n",
    "#I know you have dark reader on but present that 0 is white."
   ]
  },
  {
   "cell_type": "markdown",
   "id": "c424e239-39de-4234-8432-6559b76832eb",
   "metadata": {},
   "source": [
    "The first way we're going to try to classify these is by pixel similarity:\n",
    "We're going to average the pixels for each example of three and each of seven.\n",
    "Then we're going to try to see which is most similar to our test."
   ]
  },
  {
   "cell_type": "code",
   "execution_count": 13,
   "id": "c160dd6a-e324-45e2-a65a-e3dc38d4942d",
   "metadata": {},
   "outputs": [
    {
     "data": {
      "text/plain": [
       "(6131, 6265)"
      ]
     },
     "execution_count": 13,
     "metadata": {},
     "output_type": "execute_result"
    }
   ],
   "source": [
    "seven_tensors = [tensor(Image.open(o)) for o in sevens]\n",
    "three_tensors = [tensor(Image.open(o)) for o in threes]\n",
    "len(three_tensors),len(seven_tensors)"
   ]
  },
  {
   "cell_type": "markdown",
   "id": "fd6471d1-aca4-46a2-b5b8-7f6b90a9ebff",
   "metadata": {},
   "source": [
    "As a side note, that way of created a list is called List Comprehension.\n",
    "You could do somethhing like\n",
    "new_list = [f(o) for o in a_list if o>0]\n",
    "if you want to get conditional with it."
   ]
  },
  {
   "cell_type": "code",
   "execution_count": 14,
   "id": "88ddcca9-a24b-4d8c-9f55-26e2f774db77",
   "metadata": {},
   "outputs": [
    {
     "data": {
      "image/png": "[encoded data removed]",
      "text/plain": [
       "<Figure size 100x100 with 1 Axes>"
      ]
     },
     "metadata": {},
     "output_type": "display_data"
    }
   ],
   "source": [
    "#Let's look at an image to make sure our data make sense.\n",
    "show_image(three_tensors[1]);"
   ]
  },
  {
   "cell_type": "code",
   "execution_count": 15,
   "id": "838b664c-05a8-4309-853d-163f4599b8a6",
   "metadata": {},
   "outputs": [
    {
     "data": {
      "text/plain": [
       "torch.Size([6131, 28, 28])"
      ]
     },
     "execution_count": 15,
     "metadata": {},
     "output_type": "execute_result"
    }
   ],
   "source": [
    "#we're going to make these tensors 3d by stacking them.\n",
    "# we're also going to cast them as float, which is needed for many things\n",
    "# we're also dividing by 255 so that our values are in a 0-1 range.\n",
    "stacked_sevens = torch.stack(seven_tensors).float()/255\n",
    "stacked_threes = torch.stack(three_tensors).float()/255\n",
    "stacked_threes.shape"
   ]
  },
  {
   "cell_type": "code",
   "execution_count": 16,
   "id": "1a4790fc-f0df-4797-9ef1-d7f6d3c31c3b",
   "metadata": {},
   "outputs": [
    {
     "data": {
      "text/plain": [
       "3"
      ]
     },
     "execution_count": 16,
     "metadata": {},
     "output_type": "execute_result"
    }
   ],
   "source": [
    "#The length of a tensor's shape is its rank\n",
    "len(stacked_threes.shape)"
   ]
  },
  {
   "cell_type": "code",
   "execution_count": 17,
   "id": "aa320873-9d17-4118-9215-0ac98350bb1c",
   "metadata": {},
   "outputs": [
    {
     "data": {
      "text/plain": [
       "3"
      ]
     },
     "execution_count": 17,
     "metadata": {},
     "output_type": "execute_result"
    }
   ],
   "source": [
    "#we can also get it directly\n",
    "stacked_threes.ndim"
   ]
  },
  {
   "cell_type": "code",
   "execution_count": 18,
   "id": "383cb374-9fff-40e4-b78e-ada6cc4dc6d6",
   "metadata": {},
   "outputs": [
    {
     "data": {
      "image/png": "[encoded data removed]",
      "text/plain": [
       "<Figure size 100x100 with 1 Axes>"
      ]
     },
     "metadata": {},
     "output_type": "display_data"
    }
   ],
   "source": [
    "#now we're going to compute the mean, 0 indicates the axis to average on.\n",
    "mean3 = stacked_threes.mean(0)\n",
    "show_image(mean3);"
   ]
  },
  {
   "cell_type": "code",
   "execution_count": 19,
   "id": "50f486df-1493-465b-8d11-4aeecdf40289",
   "metadata": {},
   "outputs": [
    {
     "data": {
      "image/png": "[encoded data removed]",
      "text/plain": [
       "<Figure size 100x100 with 1 Axes>"
      ]
     },
     "metadata": {},
     "output_type": "display_data"
    }
   ],
   "source": [
    "mean7 = stacked_sevens.mean(0)\n",
    "show_image(mean7);"
   ]
  },
  {
   "cell_type": "code",
   "execution_count": 20,
   "id": "d698c1a4-af09-43b9-b1f1-437840b53c3c",
   "metadata": {},
   "outputs": [
    {
     "data": {
      "image/png": "[encoded data removed]",
      "text/plain": [
       "<Figure size 100x100 with 1 Axes>"
      ]
     },
     "metadata": {},
     "output_type": "display_data"
    }
   ],
   "source": [
    "#here's an example 3 to test our similarity function with:\n",
    "a_3 = stacked_threes[1]\n",
    "show_image(a_3);"
   ]
  },
  {
   "cell_type": "markdown",
   "id": "bfc49666-41a4-45c5-bf04-483b6e7ce726",
   "metadata": {},
   "source": [
    "How can we now rank how far any examle is from our 'ideal' 3?\n",
    "We can't just use total difference in darkness because some areas will make up for others when dark and light cancel out.\n",
    "There's two ways data scientists usually do this:\n",
    "1. Take the mean of the absolute values of the differences. This is called the mean absolute difference or L1 norm.\n",
    "2. Take the mean of the square of differences (makes all positive, then take the square root (undoes squaring) This is called Root Mean Squared RMS or L2 norm."
   ]
  },
  {
   "cell_type": "code",
   "execution_count": 21,
   "id": "7b313a32-00be-448e-a9d9-a11bb68cb229",
   "metadata": {},
   "outputs": [
    {
     "data": {
      "text/plain": [
       "(tensor(0.1114), tensor(0.2021))"
      ]
     },
     "execution_count": 21,
     "metadata": {},
     "output_type": "execute_result"
    }
   ],
   "source": [
    "dist_3_abs = (a_3 - mean3).abs().mean()\n",
    "dist_3_sqr = ((a_3 - mean3)**2).mean().sqrt()\n",
    "dist_3_abs,dist_3_sqr"
   ]
  },
  {
   "cell_type": "code",
   "execution_count": 22,
   "id": "b476266f-d0b5-4ecc-a8fe-c0f964bd9cca",
   "metadata": {},
   "outputs": [
    {
     "data": {
      "text/plain": [
       "(tensor(0.1586), tensor(0.3021))"
      ]
     },
     "execution_count": 22,
     "metadata": {},
     "output_type": "execute_result"
    }
   ],
   "source": [
    "dist_7_abs = (a_3 - mean7).abs().mean()\n",
    "dist_7_sqr = ((a_3 - mean7)**2).mean().sqrt()\n",
    "dist_7_abs,dist_7_sqr"
   ]
  },
  {
   "cell_type": "code",
   "execution_count": 23,
   "id": "7812070f-e662-4863-afa6-b5fea5469462",
   "metadata": {},
   "outputs": [
    {
     "data": {
      "text/plain": [
       "(tensor(0.1586), tensor(0.3021))"
      ]
     },
     "execution_count": 23,
     "metadata": {},
     "output_type": "execute_result"
    }
   ],
   "source": [
    "#remember this is a loss function, so the 3 is closer to 3s than 7s, which is good.\n",
    "# Pytorch has these in torch.nn.functional, which pytorch recommends importing as F\n",
    "# fastai automatically has it imported as F\n",
    "F.l1_loss(a_3.float(),mean7), F.mse_loss(a_3,mean7).sqrt()"
   ]
  },
  {
   "cell_type": "markdown",
   "id": "9f1be172-0b70-45b0-98bf-6d66f7464b2a",
   "metadata": {},
   "source": [
    "S: Intuitively, the difference between L1 norm and mean squared error (MSE) is that the latter will penalize bigger mistakes more heavily than the former (and be more lenient with small mistakes)."
   ]
  },
  {
   "cell_type": "markdown",
   "id": "3efa926d-3b7f-4e5b-a3f7-a4d91d68ff20",
   "metadata": {},
   "source": [
    "The book talks a bit about the differences between pytorch and numpy\n",
    "functionally there are some things that numpy can't do on the gpu.\n",
    "pytorch tensors always work on gpu.\n",
    "numpy arrays can be jagged (ie not all of layer same shape) pytorch tensors cannot."
   ]
  },
  {
   "cell_type": "code",
   "execution_count": 24,
   "id": "51b621cc-5d1a-4892-90de-e98eb15bdd94",
   "metadata": {},
   "outputs": [],
   "source": [
    "#create numpy array or a pytorch tensor by just calling array() or tensor()\n",
    "data = [[1,2,3],[4,5,6]]\n",
    "arr = array (data)\n",
    "tns = tensor(data)"
   ]
  },
  {
   "cell_type": "code",
   "execution_count": 25,
   "id": "1cbb4f2a-de1e-42b7-bbb8-42e861a23492",
   "metadata": {},
   "outputs": [
    {
     "data": {
      "text/plain": [
       "array([[1, 2, 3],\n",
       "       [4, 5, 6]])"
      ]
     },
     "execution_count": 25,
     "metadata": {},
     "output_type": "execute_result"
    }
   ],
   "source": [
    "arr  # numpy"
   ]
  },
  {
   "cell_type": "code",
   "execution_count": 26,
   "id": "53fa25e3-dbd2-4726-be25-a177c395d92e",
   "metadata": {},
   "outputs": [
    {
     "data": {
      "text/plain": [
       "tensor([[1, 2, 3],\n",
       "        [4, 5, 6]])"
      ]
     },
     "execution_count": 26,
     "metadata": {},
     "output_type": "execute_result"
    }
   ],
   "source": [
    "tns  # pytorch"
   ]
  },
  {
   "cell_type": "code",
   "execution_count": 27,
   "id": "8d16902f-da25-4cb6-bd65-2cba76f6a8ad",
   "metadata": {},
   "outputs": [
    {
     "data": {
      "text/plain": [
       "tensor([4, 5, 6])"
      ]
     },
     "execution_count": 27,
     "metadata": {},
     "output_type": "execute_result"
    }
   ],
   "source": [
    "#we're going to quickly go over some operations.\n",
    "# in fast ai you can use the same ones on numpy arrays but we're just doing tensors\n",
    "#select a row (0 indexed)\n",
    "tns[1]"
   ]
  },
  {
   "cell_type": "code",
   "execution_count": 28,
   "id": "2b7e0a31-3616-4f70-8d5e-e19fc04c10e0",
   "metadata": {},
   "outputs": [
    {
     "data": {
      "text/plain": [
       "tensor([2, 5])"
      ]
     },
     "execution_count": 28,
     "metadata": {},
     "output_type": "execute_result"
    }
   ],
   "source": [
    "#or a column\n",
    "# ':' means all of the first axis\n",
    "tns[:,1]"
   ]
  },
  {
   "cell_type": "code",
   "execution_count": 29,
   "id": "8e4517fa-3cf9-4642-9403-c0c193c31ed0",
   "metadata": {},
   "outputs": [
    {
     "data": {
      "text/plain": [
       "tensor([5, 6])"
      ]
     },
     "execution_count": 29,
     "metadata": {},
     "output_type": "execute_result"
    }
   ],
   "source": [
    "#You can combine these with Python slice syntax ([start:end] with end being excluded)\n",
    "#to select part of a row or column:\n",
    "\n",
    "tns[1,1:3]"
   ]
  },
  {
   "cell_type": "code",
   "execution_count": 30,
   "id": "f8827aa0-bd75-4252-9f41-f31d5454f9be",
   "metadata": {},
   "outputs": [
    {
     "data": {
      "text/plain": [
       "tensor([[2, 3, 4],\n",
       "        [5, 6, 7]])"
      ]
     },
     "execution_count": 30,
     "metadata": {},
     "output_type": "execute_result"
    }
   ],
   "source": [
    "#can do normal math:\n",
    "\n",
    "tns+1"
   ]
  },
  {
   "cell_type": "code",
   "execution_count": 31,
   "id": "90156bda-4bdd-4bb1-90a2-8354b87876d3",
   "metadata": {},
   "outputs": [
    {
     "data": {
      "text/plain": [
       "'torch.LongTensor'"
      ]
     },
     "execution_count": 31,
     "metadata": {},
     "output_type": "execute_result"
    }
   ],
   "source": [
    "#tensors have a type:\n",
    "tns.type()"
   ]
  },
  {
   "cell_type": "code",
   "execution_count": 32,
   "id": "c53f72f5-9ade-4c62-be3e-7e94c26f3020",
   "metadata": {},
   "outputs": [
    {
     "data": {
      "text/plain": [
       "tensor([[1.5000, 3.0000, 4.5000],\n",
       "        [6.0000, 7.5000, 9.0000]])"
      ]
     },
     "execution_count": 32,
     "metadata": {},
     "output_type": "execute_result"
    }
   ],
   "source": [
    "#it will change automatically as needed, for instance from int to float:\n",
    "\n",
    "tns*1.5"
   ]
  },
  {
   "cell_type": "markdown",
   "id": "1f180913-0989-4512-8150-228407d3d09e",
   "metadata": {},
   "source": [
    "We're going to need a validation set later, so lets make one now.\n",
    "JK there's a folder called valid, they made one in the original dataset.\n",
    "Let's create tensors from those to help us measure the quality of our algorithm."
   ]
  },
  {
   "cell_type": "code",
   "execution_count": 33,
   "id": "2423aff5-a01d-42c0-9672-a95319cb84ef",
   "metadata": {},
   "outputs": [
    {
     "data": {
      "text/plain": [
       "(torch.Size([1010, 28, 28]), torch.Size([1028, 28, 28]))"
      ]
     },
     "execution_count": 33,
     "metadata": {},
     "output_type": "execute_result"
    }
   ],
   "source": [
    "valid_3_tens = torch.stack([tensor(Image.open(o)) \n",
    "                            for o in (path/'valid'/'3').ls()])\n",
    "valid_3_tens = valid_3_tens.float()/255\n",
    "valid_7_tens = torch.stack([tensor(Image.open(o)) \n",
    "                            for o in (path/'valid'/'7').ls()])\n",
    "valid_7_tens = valid_7_tens.float()/255\n",
    "valid_3_tens.shape,valid_7_tens.shape"
   ]
  },
  {
   "cell_type": "markdown",
   "id": "322219b3-afb1-49c5-b140-b344ce6f979a",
   "metadata": {},
   "source": [
    "Check shapes frequently to ensure they make sense\n",
    "here we have two tensors that are long containing 28 x 28 images, so this checks out.\n",
    "We're going to define a simple function to be our error function"
   ]
  },
  {
   "cell_type": "code",
   "execution_count": 34,
   "id": "7a0810f8-ddd4-4658-a08d-c7ca7c56b4e6",
   "metadata": {},
   "outputs": [
    {
     "data": {
      "text/plain": [
       "tensor(0.1114)"
      ]
     },
     "execution_count": 34,
     "metadata": {},
     "output_type": "execute_result"
    }
   ],
   "source": [
    "\n",
    "def mnist_distance(a,b): return (a-b).abs().mean((-1,-2))\n",
    "mnist_distance(a_3, mean3)"
   ]
  },
  {
   "cell_type": "markdown",
   "id": "cea52162-1538-49c1-81e7-a049b46d5b62",
   "metadata": {},
   "source": [
    "If we now want to do this to the entire data set we can instead pass the entire validation 3 tensor"
   ]
  },
  {
   "cell_type": "code",
   "execution_count": 35,
   "id": "7b7d8c27-0af1-4cad-80e5-9c5eff399b3e",
   "metadata": {},
   "outputs": [
    {
     "data": {
      "text/plain": [
       "(tensor([0.1438, 0.1308, 0.1246,  ..., 0.1156, 0.1154, 0.1409]),\n",
       " torch.Size([1010]))"
      ]
     },
     "execution_count": 35,
     "metadata": {},
     "output_type": "execute_result"
    }
   ],
   "source": [
    "valid_3_dist = mnist_distance(valid_3_tens, mean3)\n",
    "valid_3_dist, valid_3_dist.shape"
   ]
  },
  {
   "cell_type": "markdown",
   "id": "3685c857-33bf-4995-9abf-6cf4cffe3988",
   "metadata": {},
   "source": [
    "Broadcasting is basically where the function artificially makes the tensors the same size for the sake of whatever is happening. "
   ]
  },
  {
   "cell_type": "code",
   "execution_count": 36,
   "id": "2f9927d2-27fe-4b99-8dad-32d6a20614d9",
   "metadata": {},
   "outputs": [
    {
     "data": {
      "text/plain": [
       "tensor([2, 3, 4])"
      ]
     },
     "execution_count": 36,
     "metadata": {},
     "output_type": "execute_result"
    }
   ],
   "source": [
    "\n",
    "tensor([1,2,3]) + tensor(1)"
   ]
  },
  {
   "cell_type": "markdown",
   "id": "4ab2bd9a-fcd3-4cd1-89d2-b188be109f2a",
   "metadata": {},
   "source": [
    "In our code we have a rank 2 tensor for our mean 3 and it's broadcasted across all the validation 3s"
   ]
  },
  {
   "cell_type": "code",
   "execution_count": 37,
   "id": "ccf0984f-55cc-464c-8810-d1d551e6929b",
   "metadata": {},
   "outputs": [
    {
     "data": {
      "text/plain": [
       "torch.Size([1010, 28, 28])"
      ]
     },
     "execution_count": 37,
     "metadata": {},
     "output_type": "execute_result"
    }
   ],
   "source": [
    "(valid_3_tens-mean3).shape"
   ]
  },
  {
   "cell_type": "markdown",
   "id": "fe93b552-b235-4912-9aa3-f7616a501014",
   "metadata": {},
   "source": [
    "PyTorch doesn't actually copy mean3 1,010 times. It pretends it were a tensor of that shape, but doesn't actually allocate any additional memory\n",
    "<br>It does the whole calculation in C (or, if you're using a GPU, in CUDA, the equivalent of C on the GPU), tens of thousands of times faster than pure Python (up to millions of times faster on a GPU!)"
   ]
  },
  {
   "cell_type": "code",
   "execution_count": 38,
   "id": "e14a0366-2b34-4499-8fdd-9da3b2c4c85b",
   "metadata": {},
   "outputs": [],
   "source": [
    "\n",
    "def is_3(x): return mnist_distance(x,mean3) < mnist_distance(x,mean7)"
   ]
  },
  {
   "cell_type": "code",
   "execution_count": 39,
   "id": "c319cbd4-fe7b-458e-9291-9bc1b781c180",
   "metadata": {},
   "outputs": [
    {
     "data": {
      "text/plain": [
       "(tensor(True), tensor(1.))"
      ]
     },
     "execution_count": 39,
     "metadata": {},
     "output_type": "execute_result"
    }
   ],
   "source": [
    "\n",
    "is_3(a_3), is_3(a_3).float()"
   ]
  },
  {
   "cell_type": "code",
   "execution_count": 40,
   "id": "9cb2b464-9e2f-419f-8dfb-d06411522620",
   "metadata": {},
   "outputs": [
    {
     "data": {
      "text/plain": [
       "tensor([True, True, True,  ..., True, True, True])"
      ]
     },
     "execution_count": 40,
     "metadata": {},
     "output_type": "execute_result"
    }
   ],
   "source": [
    "#whole set:\n",
    "\n",
    "is_3(valid_3_tens)"
   ]
  },
  {
   "cell_type": "code",
   "execution_count": 41,
   "id": "6baf06a5-31c5-4d2f-b56e-4f7590acffdc",
   "metadata": {},
   "outputs": [
    {
     "data": {
      "text/plain": [
       "(tensor(0.9168), tensor(0.9854), tensor(0.9511))"
      ]
     },
     "execution_count": 41,
     "metadata": {},
     "output_type": "execute_result"
    }
   ],
   "source": [
    "#calculate the accuracy by taking the average of that function for 3, and inverse for 7\n",
    "\n",
    "accuracy_3s =      is_3(valid_3_tens).float() .mean()\n",
    "accuracy_7s = (1 - is_3(valid_7_tens).float()).mean()\n",
    "\n",
    "accuracy_3s,accuracy_7s,(accuracy_3s+accuracy_7s)/2"
   ]
  },
  {
   "cell_type": "code",
   "execution_count": 44,
   "id": "f5b971dc-3274-4648-84a7-c63078b8bb44",
   "metadata": {},
   "outputs": [],
   "source": [
    "#man that's surprisingly good.\n",
    "#let's be real though gradient descent is the goat\n"
   ]
  },
  {
   "cell_type": "markdown",
   "id": "62653813-7f77-4988-b0f6-dfeef487e922",
   "metadata": {},
   "source": [
    "Book is now talking about gradient descent. Largely review from the video but I'll summarize lightly.\n",
    "We need these things for gradient descent to work:\n",
    "Initialization (random)\n",
    "Loss Function\n",
    "Step (a way to figure out direction of movement)\n",
    "Stop (a reason to stop)\n",
    "\n",
    "Our step is calculated using gradients"
   ]
  },
  {
   "cell_type": "code",
   "execution_count": 45,
   "id": "aed3d1fe-5fe0-47d3-b794-5bbf28033533",
   "metadata": {},
   "outputs": [],
   "source": [
    "\n",
    "\n",
    "def f(x): return x**2"
   ]
  },
  {
   "cell_type": "code",
   "execution_count": 46,
   "id": "748e8cb8-3028-4dc7-9610-5cd6c3a3a461",
   "metadata": {},
   "outputs": [],
   "source": [
    "#requires grad tells pytorch we want to calculate gradients with respect to that variable at that value\n",
    "xt = tensor(3.).requires_grad_()"
   ]
  },
  {
   "cell_type": "code",
   "execution_count": 47,
   "id": "9586218e-82f1-4d24-a274-1c678341b59d",
   "metadata": {},
   "outputs": [
    {
     "data": {
      "text/plain": [
       "tensor(9., grad_fn=<PowBackward0>)"
      ]
     },
     "execution_count": 47,
     "metadata": {},
     "output_type": "execute_result"
    }
   ],
   "source": [
    "yt = f(xt)\n",
    "yt\n",
    "    "
   ]
  },
  {
   "cell_type": "code",
   "execution_count": 48,
   "id": "0f4a4b6f-14bd-4725-a155-44dd7c3a8d73",
   "metadata": {},
   "outputs": [],
   "source": [
    "yt.backward()"
   ]
  },
  {
   "cell_type": "code",
   "execution_count": 49,
   "id": "ae91bfcd-2c74-4a1e-a450-04b328fa85ed",
   "metadata": {},
   "outputs": [
    {
     "data": {
      "text/plain": [
       "tensor(6.)"
      ]
     },
     "execution_count": 49,
     "metadata": {},
     "output_type": "execute_result"
    }
   ],
   "source": [
    "\n",
    "xt.grad"
   ]
  },
  {
   "cell_type": "code",
   "execution_count": 50,
   "id": "4b5fbdf8-3b80-4f3a-b172-b3c038459d25",
   "metadata": {},
   "outputs": [
    {
     "data": {
      "text/plain": [
       "tensor(125., grad_fn=<SumBackward0>)"
      ]
     },
     "execution_count": 50,
     "metadata": {},
     "output_type": "execute_result"
    }
   ],
   "source": [
    "#same thing with vectors:\n",
    "\n",
    "xt = tensor([3.,4.,10.]).requires_grad_()\n",
    "xt\n",
    "def f(x): return (x**2).sum()\n",
    "\n",
    "yt = f(xt)\n",
    "yt"
   ]
  },
  {
   "cell_type": "code",
   "execution_count": 51,
   "id": "8dffa145-d1ee-4e76-9dc3-0a1a6a1b0169",
   "metadata": {},
   "outputs": [
    {
     "data": {
      "text/plain": [
       "tensor([ 6.,  8., 20.])"
      ]
     },
     "execution_count": 51,
     "metadata": {},
     "output_type": "execute_result"
    }
   ],
   "source": [
    "yt.backward()\n",
    "xt.grad"
   ]
  },
  {
   "cell_type": "markdown",
   "id": "df1e8943-4527-439c-9615-dd58a67b4b6d",
   "metadata": {},
   "source": [
    "Goes over learning rates and the issues with too big/too large\n",
    "too large will step past the solution\n",
    "too small will take too long."
   ]
  },
  {
   "cell_type": "markdown",
   "id": "134fa58f-2d53-456a-8f93-0b0147c4319e",
   "metadata": {},
   "source": [
    "Will very quickly go through the example which is a rollercoaster going over a hump, gets slower towards the peak then speeds up on the way out.\n"
   ]
  },
  {
   "cell_type": "code",
   "execution_count": 52,
   "id": "0b3a72ea-aff7-4e85-92b7-f7bddcff70ee",
   "metadata": {},
   "outputs": [
    {
     "data": {
      "text/plain": [
       "tensor([ 0.,  1.,  2.,  3.,  4.,  5.,  6.,  7.,  8.,  9., 10., 11., 12., 13., 14., 15., 16., 17., 18., 19.])"
      ]
     },
     "execution_count": 52,
     "metadata": {},
     "output_type": "execute_result"
    }
   ],
   "source": [
    "time = torch.arange(0,20).float(); time"
   ]
  },
  {
   "cell_type": "code",
   "execution_count": 53,
   "id": "ed730d72-8575-4466-bb0d-ef8d8451f9f9",
   "metadata": {},
   "outputs": [
    {
     "data": {
      "image/png": "[encoded data removed]",
      "text/plain": [
       "<Figure size 640x480 with 1 Axes>"
      ]
     },
     "metadata": {},
     "output_type": "display_data"
    }
   ],
   "source": [
    "\n",
    "speed = torch.randn(20)*3 + 0.75*(time-9.5)**2 + 1\n",
    "plt.scatter(time,speed);"
   ]
  },
  {
   "cell_type": "markdown",
   "id": "0cfa7bed-8fc4-4b90-9814-ad2f97ecbfb0",
   "metadata": {},
   "source": [
    "Adding noise so learning is actually conflicted."
   ]
  },
  {
   "cell_type": "code",
   "execution_count": 55,
   "id": "f51d2577-48a8-40f6-949d-1b475b3dbf0f",
   "metadata": {},
   "outputs": [],
   "source": [
    "#separate params and t for ease of reading\n",
    "def f(t, params):\n",
    "    a,b,c = params\n",
    "    return a*(t**2) + (b*t) + c\n",
    "     "
   ]
  },
  {
   "cell_type": "code",
   "execution_count": 56,
   "id": "fc9a726c-1f31-48cb-9874-50da9ef0faa2",
   "metadata": {},
   "outputs": [],
   "source": [
    "#define loss function:\n",
    "def mse(preds, targets): return ((preds-targets)**2).mean()"
   ]
  },
  {
   "cell_type": "code",
   "execution_count": 57,
   "id": "0b50def5-e410-4f49-b2e7-bbf35e538d9d",
   "metadata": {},
   "outputs": [],
   "source": [
    "#initialize params:\n",
    "params = torch.randn(3).requires_grad_()\n",
    "orig_params = params.clone() #not required"
   ]
  },
  {
   "cell_type": "code",
   "execution_count": 58,
   "id": "c07a4113-9573-4ae1-b66b-fc9a34008a5e",
   "metadata": {},
   "outputs": [],
   "source": [
    "#make our first predictions:\n",
    "preds = f(time, params)"
   ]
  },
  {
   "cell_type": "code",
   "execution_count": 59,
   "id": "0e05000e-cccd-4dcf-b2a8-4438806cdbc1",
   "metadata": {},
   "outputs": [],
   "source": [
    "def show_preds(preds, ax=None):\n",
    "    if ax is None: ax=plt.subplots()[1]\n",
    "    ax.scatter(time, speed)\n",
    "    ax.scatter(time, to_np(preds), color='red')\n",
    "    ax.set_ylim(-300,100)"
   ]
  },
  {
   "cell_type": "code",
   "execution_count": 60,
   "id": "7c42d812-2a64-4929-ad8f-7fcd64d85385",
   "metadata": {},
   "outputs": [
    {
     "data": {
      "image/png": "[encoded data removed]",
      "text/plain": [
       "<Figure size 640x480 with 1 Axes>"
      ]
     },
     "metadata": {},
     "output_type": "display_data"
    }
   ],
   "source": [
    "\n",
    "show_preds(preds)"
   ]
  },
  {
   "cell_type": "code",
   "execution_count": 61,
   "id": "3ba3231b-6a61-46a8-8ced-493da5eca171",
   "metadata": {},
   "outputs": [],
   "source": [
    "#current loss:"
   ]
  },
  {
   "cell_type": "code",
   "execution_count": 62,
   "id": "1277429a-b901-40eb-8a61-cf916a0af747",
   "metadata": {},
   "outputs": [
    {
     "data": {
      "text/plain": [
       "tensor(25823.8086, grad_fn=<MeanBackward0>)"
      ]
     },
     "execution_count": 62,
     "metadata": {},
     "output_type": "execute_result"
    }
   ],
   "source": [
    "loss = mse(preds, speed)\n",
    "loss\n",
    "     "
   ]
  },
  {
   "cell_type": "code",
   "execution_count": 64,
   "id": "e0c2e4f3-91d3-429b-a535-9d760bc6884e",
   "metadata": {},
   "outputs": [
    {
     "data": {
      "text/plain": [
       "tensor([-53195.8633,  -3419.7148,   -253.8908])"
      ]
     },
     "execution_count": 64,
     "metadata": {},
     "output_type": "execute_result"
    }
   ],
   "source": [
    "#get grads\n",
    "loss.backward()\n",
    "params.grad"
   ]
  },
  {
   "cell_type": "code",
   "execution_count": 65,
   "id": "15074497-de57-4bcb-a1c8-7710eff4944b",
   "metadata": {},
   "outputs": [
    {
     "data": {
      "text/plain": [
       "tensor([-0.5320, -0.0342, -0.0025])"
      ]
     },
     "execution_count": 65,
     "metadata": {},
     "output_type": "execute_result"
    }
   ],
   "source": [
    "#learning rate = .00001\n",
    "params.grad * 1e-5"
   ]
  },
  {
   "cell_type": "code",
   "execution_count": 66,
   "id": "fb14340a-2900-4626-956d-deb17ce34c8e",
   "metadata": {},
   "outputs": [
    {
     "data": {
      "text/plain": [
       "tensor([-0.7658, -0.7506,  1.3525], requires_grad=True)"
      ]
     },
     "execution_count": 66,
     "metadata": {},
     "output_type": "execute_result"
    }
   ],
   "source": [
    "\n",
    "params"
   ]
  },
  {
   "cell_type": "code",
   "execution_count": 67,
   "id": "83c41bad-041d-4e33-bf4b-0200c7ea821a",
   "metadata": {},
   "outputs": [],
   "source": [
    "#update weights\n",
    "lr = 1e-5\n",
    "params.data -= lr * params.grad.data\n",
    "params.grad = None"
   ]
  },
  {
   "cell_type": "code",
   "execution_count": 68,
   "id": "386c5596-0bdb-4a28-8228-2275aca353bf",
   "metadata": {},
   "outputs": [
    {
     "data": {
      "text/plain": [
       "tensor(5435.5356, grad_fn=<MeanBackward0>)"
      ]
     },
     "execution_count": 68,
     "metadata": {},
     "output_type": "execute_result"
    }
   ],
   "source": [
    "#new loss:\n",
    "\n",
    "preds = f(time,params)\n",
    "mse(preds, speed)"
   ]
  },
  {
   "cell_type": "code",
   "execution_count": 69,
   "id": "854e0e39-d05d-49ee-aba6-f9e3909ef42f",
   "metadata": {},
   "outputs": [
    {
     "data": {
      "image/png": "[encoded data removed]",
      "text/plain": [
       "<Figure size 640x480 with 1 Axes>"
      ]
     },
     "metadata": {},
     "output_type": "display_data"
    }
   ],
   "source": [
    "show_preds(preds)"
   ]
  },
  {
   "cell_type": "code",
   "execution_count": 71,
   "id": "cdeffdb8-00bf-4ab3-9753-a952a4f62bb9",
   "metadata": {},
   "outputs": [],
   "source": [
    "#function to do all that at once\n",
    "\n",
    "\n",
    "def apply_step(params, prn=True):\n",
    "    preds = f(time, params)\n",
    "    loss = mse(preds, speed)\n",
    "    loss.backward()\n",
    "    params.data -= lr * params.grad.data\n",
    "    params.grad = None\n",
    "    if prn: print(loss.item())\n",
    "    return preds"
   ]
  },
  {
   "cell_type": "code",
   "execution_count": 72,
   "id": "2a5d7fa5-ad4f-40f8-9747-ecfa4e336151",
   "metadata": {},
   "outputs": [
    {
     "name": "stdout",
     "output_type": "stream",
     "text": [
      "5435.53564453125\n",
      "1577.44921875\n",
      "847.3778076171875\n",
      "709.2225341796875\n",
      "683.0758056640625\n",
      "678.1243896484375\n",
      "677.1838989257812\n",
      "677.0023803710938\n",
      "676.9645385742188\n",
      "676.9537353515625\n"
     ]
    }
   ],
   "source": [
    "#iterate\n",
    "for i in range(10): apply_step(params)"
   ]
  },
  {
   "cell_type": "code",
   "execution_count": 73,
   "id": "32c86153-9637-499e-b10f-8dd377c54f17",
   "metadata": {},
   "outputs": [],
   "source": [
    "params = orig_params.detach().requires_grad_()"
   ]
  },
  {
   "cell_type": "code",
   "execution_count": 74,
   "id": "13656d6b-0e34-4add-9abf-71b4f1d7497c",
   "metadata": {},
   "outputs": [
    {
     "data": {
      "image/png": "[encoded data removed]",
      "text/plain": [
       "<Figure size 1200x300 with 4 Axes>"
      ]
     },
     "metadata": {},
     "output_type": "display_data"
    }
   ],
   "source": [
    "\n",
    "_,axs = plt.subplots(1,4,figsize=(12,3))\n",
    "for ax in axs: show_preds(apply_step(params, False), ax)\n",
    "plt.tight_layout()"
   ]
  },
  {
   "cell_type": "markdown",
   "id": "27a8cf7a-c09c-4161-a87d-a882ed8282a6",
   "metadata": {},
   "source": [
    "So let's make a loss function for our digits dataset.\n",
    "We can contatenate our inputs by using .view.\n",
    "-1 is a special parameter that means \"maake this axis as big as necessary."
   ]
  },
  {
   "cell_type": "code",
   "execution_count": 75,
   "id": "84487788-aa18-4dd4-a827-652d85a54b2e",
   "metadata": {},
   "outputs": [],
   "source": [
    "train_x = torch.cat([stacked_threes, stacked_sevens]).view(-1, 28*28)"
   ]
  },
  {
   "cell_type": "code",
   "execution_count": 76,
   "id": "d479450a-0f3d-4228-8ff4-7dc832de84cb",
   "metadata": {},
   "outputs": [
    {
     "data": {
      "text/plain": [
       "(torch.Size([12396, 784]), torch.Size([12396, 1]))"
      ]
     },
     "execution_count": 76,
     "metadata": {},
     "output_type": "execute_result"
    }
   ],
   "source": [
    "#1 for 3, 0 for 7\n",
    "train_y = tensor([1]*len(threes) + [0]*len(sevens)).unsqueeze(1)\n",
    "train_x.shape,train_y.shape\n",
    "     "
   ]
  },
  {
   "cell_type": "markdown",
   "id": "577d8995-9f6a-407b-bd6b-9d614a9a5726",
   "metadata": {},
   "source": [
    "In Pytorch a Dataset object needs tto return a tuple of (x,y) when indexed.\n",
    "Python's zip function along with list can easily put them together:"
   ]
  },
  {
   "cell_type": "code",
   "execution_count": 77,
   "id": "d5afaa50-5766-46af-a9cb-e6c1ea106fe9",
   "metadata": {},
   "outputs": [
    {
     "data": {
      "text/plain": [
       "(torch.Size([784]), tensor([1]))"
      ]
     },
     "execution_count": 77,
     "metadata": {},
     "output_type": "execute_result"
    }
   ],
   "source": [
    "dset = list(zip(train_x,train_y))\n",
    "x,y = dset[0]\n",
    "x.shape,y"
   ]
  },
  {
   "cell_type": "code",
   "execution_count": 79,
   "id": "7bfdb891-3237-462e-a138-696f4a4fd815",
   "metadata": {},
   "outputs": [],
   "source": [
    "#validation set same steps\n",
    "valid_x = torch.cat([valid_3_tens, valid_7_tens]).view(-1, 28*28)\n",
    "valid_y = tensor([1]*len(valid_3_tens) + [0]*len(valid_7_tens)).unsqueeze(1)\n",
    "valid_dset = list(zip(valid_x,valid_y))\n",
    "     "
   ]
  },
  {
   "cell_type": "code",
   "execution_count": 80,
   "id": "2f360842-fc07-455c-8876-682592528487",
   "metadata": {},
   "outputs": [],
   "source": [
    "#random pixel weight initialization:\n",
    "def init_params(size, std=1.0): return (torch.randn(size)*std).requires_grad_()\n"
   ]
  },
  {
   "cell_type": "code",
   "execution_count": 81,
   "id": "1b4b8110-547f-44a3-acd4-678ba7824b71",
   "metadata": {},
   "outputs": [],
   "source": [
    "weights = init_params((28*28,1))"
   ]
  },
  {
   "cell_type": "code",
   "execution_count": 82,
   "id": "d9dc7f04-d42f-4ea7-956a-d7727cdfd41c",
   "metadata": {},
   "outputs": [],
   "source": [
    "#don't forget the bias:\n",
    "bias = init_params(1)"
   ]
  },
  {
   "cell_type": "markdown",
   "id": "19390ccd-39d3-49ba-b7e7-88a71ae0a22b",
   "metadata": {},
   "source": [
    "book explains that weights are like the m and biases are like the b.\n",
    "Again this is review for you from Deep Learning.\n"
   ]
  },
  {
   "cell_type": "code",
   "execution_count": 83,
   "id": "7f56dd5e-947b-438e-bf09-2f4e967a54e5",
   "metadata": {},
   "outputs": [
    {
     "data": {
      "text/plain": [
       "tensor([20.2336], grad_fn=<AddBackward0>)"
      ]
     },
     "execution_count": 83,
     "metadata": {},
     "output_type": "execute_result"
    }
   ],
   "source": [
    "(train_x[0]*weights.T).sum() + bias\n"
   ]
  },
  {
   "cell_type": "code",
   "execution_count": 84,
   "id": "ff164112-df95-4116-976b-ae31d4ef8315",
   "metadata": {},
   "outputs": [
    {
     "data": {
      "text/plain": [
       "tensor([[20.2336],\n",
       "        [17.0644],\n",
       "        [15.2384],\n",
       "        ...,\n",
       "        [18.3804],\n",
       "        [23.8567],\n",
       "        [28.6816]], grad_fn=<AddBackward0>)"
      ]
     },
     "execution_count": 84,
     "metadata": {},
     "output_type": "execute_result"
    }
   ],
   "source": [
    "#Matrix multiplication is represented with @ now apparently\n",
    "def linear1(xb): return xb@weights + bias\n",
    "preds = linear1(train_x)\n",
    "preds"
   ]
  },
  {
   "cell_type": "code",
   "execution_count": 85,
   "id": "26d458c1-a8c2-4a08-b26e-f4cc622d03dc",
   "metadata": {},
   "outputs": [
    {
     "data": {
      "text/plain": [
       "tensor([[ True],\n",
       "        [ True],\n",
       "        [ True],\n",
       "        ...,\n",
       "        [False],\n",
       "        [False],\n",
       "        [False]])"
      ]
     },
     "execution_count": 85,
     "metadata": {},
     "output_type": "execute_result"
    }
   ],
   "source": [
    "#check accuracy\n",
    "corrects = (preds>0.0).float() == train_y\n",
    "corrects\n",
    "     "
   ]
  },
  {
   "cell_type": "code",
   "execution_count": 86,
   "id": "2be26efe-7a6b-4833-95ac-b7efc4050c87",
   "metadata": {},
   "outputs": [
    {
     "data": {
      "text/plain": [
       "0.4912068545818329"
      ]
     },
     "execution_count": 86,
     "metadata": {},
     "output_type": "execute_result"
    }
   ],
   "source": [
    "#.item converts from a tensor to a python number (our tensor is size 1 after the mean)\n",
    "corrects.float().mean().item()"
   ]
  },
  {
   "cell_type": "markdown",
   "id": "7a233430-1747-4422-83bc-3e458fe247a9",
   "metadata": {},
   "source": [
    "They try to write their own loss function but it's weird, basically tries to take the difference between 0 or 1 and the confidence towards either case.\n",
    "Anyway they want it bound between 0 and 1 so we're going sigmoid"
   ]
  },
  {
   "cell_type": "code",
   "execution_count": 87,
   "id": "40b08c78-6495-48a9-8a1d-9e89ca82e33c",
   "metadata": {},
   "outputs": [
    {
     "data": {
      "image/png": "[encoded data removed]",
      "text/plain": [
       "<Figure size 600x400 with 1 Axes>"
      ]
     },
     "metadata": {},
     "output_type": "display_data"
    }
   ],
   "source": [
    "#in code sigmoid\n",
    "def sigmoid(x): return 1/(1+torch.exp(-x))\n",
    "plot_function(torch.sigmoid, title='Sigmoid', min=-4, max=4)"
   ]
  },
  {
   "cell_type": "markdown",
   "id": "ecf6957d-c684-4624-8bd5-23d3c110ccd7",
   "metadata": {},
   "source": [
    "So in this case they just want to use sigmoid to bind the predictions (inputs between 0 and 1\n",
    "Now they define loss like this:"
   ]
  },
  {
   "cell_type": "code",
   "execution_count": 88,
   "id": "f461cfe0-352c-423b-9058-8c86b7ba7456",
   "metadata": {},
   "outputs": [],
   "source": [
    "\n",
    "def mnist_loss(predictions, targets):\n",
    "    predictions = predictions.sigmoid()\n",
    "    return torch.where(targets==1, 1-predictions, predictions).mean()"
   ]
  },
  {
   "cell_type": "markdown",
   "id": "98613871-bd93-41c8-8ddd-953f9143cee1",
   "metadata": {},
   "source": [
    "Now we're going into the advantages of mini batches:\n",
    "we can find the average loss for a few items instead of the whole dataset\n",
    "Finding thhe correct batch size can be hard.\n",
    "Larger means you get a more accurate and stable estimate of the gradients, but long time.\n",
    "Mini batches are also important for parallelization.\n",
    "We also shuffle each epoch before making batches\n",
    "A DataLoader takes a python collection and turnsit into an iterator over mini-batches."
   ]
  },
  {
   "cell_type": "code",
   "execution_count": 89,
   "id": "15e56bb9-7959-4ca5-8ba1-22880dc94dfb",
   "metadata": {},
   "outputs": [
    {
     "data": {
      "text/plain": [
       "[tensor([3, 6, 0, 1, 4]),\n",
       " tensor([ 8, 10,  5, 11,  2]),\n",
       " tensor([ 7, 12, 13,  9, 14])]"
      ]
     },
     "execution_count": 89,
     "metadata": {},
     "output_type": "execute_result"
    }
   ],
   "source": [
    "coll = range(15)\n",
    "dl = DataLoader(coll, batch_size=5, shuffle=True)\n",
    "list(dl)\n",
    "     "
   ]
  },
  {
   "cell_type": "markdown",
   "id": "c12da14a-00cb-44e0-a33a-72aed0c9514b",
   "metadata": {},
   "source": [
    "A collection that contains tuples of independent and dependent variables is known in pytorch as a dataset"
   ]
  },
  {
   "cell_type": "code",
   "execution_count": 90,
   "id": "e0c4dcd7-d246-4df2-a97a-5cf3cf8cd571",
   "metadata": {},
   "outputs": [
    {
     "data": {
      "text/plain": [
       "(#26) [(0, 'a'),(1, 'b'),(2, 'c'),(3, 'd'),(4, 'e'),(5, 'f'),(6, 'g'),(7, 'h'),(8, 'i'),(9, 'j'),(10, 'k'),(11, 'l'),(12, 'm'),(13, 'n'),(14, 'o'),(15, 'p'),(16, 'q'),(17, 'r'),(18, 's'),(19, 't')...]"
      ]
     },
     "execution_count": 90,
     "metadata": {},
     "output_type": "execute_result"
    }
   ],
   "source": [
    "#Here's a simple dataset:\n",
    "ds = L(enumerate(string.ascii_lowercase))\n",
    "ds\n",
    "     "
   ]
  },
  {
   "cell_type": "code",
   "execution_count": 91,
   "id": "c59e10ad-ef0a-489d-a91a-df417b750b25",
   "metadata": {},
   "outputs": [
    {
     "data": {
      "text/plain": [
       "[(tensor([ 0, 10, 11, 17, 24, 25]), ('a', 'k', 'l', 'r', 'y', 'z')),\n",
       " (tensor([18, 19,  1,  2, 22,  3]), ('s', 't', 'b', 'c', 'w', 'd')),\n",
       " (tensor([ 5,  6,  4, 13,  9,  7]), ('f', 'g', 'e', 'n', 'j', 'h')),\n",
       " (tensor([23, 14, 15,  8, 12, 20]), ('x', 'o', 'p', 'i', 'm', 'u')),\n",
       " (tensor([21, 16]), ('v', 'q'))]"
      ]
     },
     "execution_count": 91,
     "metadata": {},
     "output_type": "execute_result"
    }
   ],
   "source": [
    "#pass it to loader and we'll get some minibatches:\n",
    "dl = DataLoader(ds, batch_size=6, shuffle=True)\n",
    "list(dl)"
   ]
  },
  {
   "cell_type": "markdown",
   "id": "ee89dbc6-4122-4f07-9d44-f0bd85aa40f0",
   "metadata": {},
   "source": [
    "Gradient descent quickly summarized:\n",
    "for x,y in dl:\n",
    "    pred = model(x)\n",
    "    loss = loss_func(pred, y)\n",
    "    loss.backward()\n",
    "    parameters -= parameters.grad * lr"
   ]
  },
  {
   "cell_type": "code",
   "execution_count": 92,
   "id": "58ec3202-b2b6-40e0-b501-50b718a0cf7c",
   "metadata": {},
   "outputs": [],
   "source": [
    "#initialize params\n",
    "\n",
    "weights = init_params((28*28,1))\n",
    "bias = init_params(1)"
   ]
  },
  {
   "cell_type": "code",
   "execution_count": 93,
   "id": "61651fca-4019-4c66-bace-acbf6fb63ce2",
   "metadata": {},
   "outputs": [
    {
     "data": {
      "text/plain": [
       "(torch.Size([256, 784]), torch.Size([256, 1]))"
      ]
     },
     "execution_count": 93,
     "metadata": {},
     "output_type": "execute_result"
    }
   ],
   "source": [
    "#DataLoader from Dataset:\n",
    "dl = DataLoader(dset, batch_size=256)\n",
    "xb,yb = first(dl)\n",
    "xb.shape,yb.shape"
   ]
  },
  {
   "cell_type": "code",
   "execution_count": 94,
   "id": "01e1d5a5-d9aa-4c9a-9764-d58bfd47dd05",
   "metadata": {},
   "outputs": [],
   "source": [
    "#same with validation\n",
    "valid_dl = DataLoader(valid_dset, batch_size=256)"
   ]
  },
  {
   "cell_type": "code",
   "execution_count": 95,
   "id": "a92784d6-9520-4005-a88c-7c606144e89e",
   "metadata": {},
   "outputs": [
    {
     "data": {
      "text/plain": [
       "torch.Size([4, 784])"
      ]
     },
     "execution_count": 95,
     "metadata": {},
     "output_type": "execute_result"
    }
   ],
   "source": [
    "#create size 4 mini batch\n",
    "batch = train_x[:4]\n",
    "batch.shape"
   ]
  },
  {
   "cell_type": "code",
   "execution_count": 96,
   "id": "92baded3-b05e-4926-a31f-7cb21ea56500",
   "metadata": {},
   "outputs": [
    {
     "data": {
      "text/plain": [
       "tensor([[-2.1876],\n",
       "        [-8.3973],\n",
       "        [ 2.5000],\n",
       "        [-4.9473]], grad_fn=<AddBackward0>)"
      ]
     },
     "execution_count": 96,
     "metadata": {},
     "output_type": "execute_result"
    }
   ],
   "source": [
    "\n",
    "preds = linear1(batch)\n",
    "preds"
   ]
  },
  {
   "cell_type": "code",
   "execution_count": 97,
   "id": "221cc441-29b2-4c7e-a0f0-8b52836c988a",
   "metadata": {},
   "outputs": [
    {
     "data": {
      "text/plain": [
       "tensor(0.7419, grad_fn=<MeanBackward0>)"
      ]
     },
     "execution_count": 97,
     "metadata": {},
     "output_type": "execute_result"
    }
   ],
   "source": [
    "loss = mnist_loss(preds, train_y[:4])\n",
    "loss\n",
    "     "
   ]
  },
  {
   "cell_type": "code",
   "execution_count": 98,
   "id": "b8d4dadf-be3d-4068-b473-984f33a97fed",
   "metadata": {},
   "outputs": [
    {
     "data": {
      "text/plain": [
       "(torch.Size([784, 1]), tensor(-0.0061), tensor([-0.0420]))"
      ]
     },
     "execution_count": 98,
     "metadata": {},
     "output_type": "execute_result"
    }
   ],
   "source": [
    "#get grads\n",
    "loss.backward()\n",
    "weights.grad.shape,weights.grad.mean(),bias.grad"
   ]
  },
  {
   "cell_type": "code",
   "execution_count": 99,
   "id": "39a762ee-0d41-478e-8cac-d0aa924c2d78",
   "metadata": {},
   "outputs": [],
   "source": [
    "#put it together\n",
    "def calc_grad(xb, yb, model):\n",
    "    preds = model(xb)\n",
    "    loss = mnist_loss(preds, yb)\n",
    "    loss.backward()"
   ]
  },
  {
   "cell_type": "code",
   "execution_count": 100,
   "id": "f83d3989-7b9e-4cd6-9370-93cb3ef0c4a0",
   "metadata": {},
   "outputs": [
    {
     "data": {
      "text/plain": [
       "(tensor(-0.0121), tensor([-0.0840]))"
      ]
     },
     "execution_count": 100,
     "metadata": {},
     "output_type": "execute_result"
    }
   ],
   "source": [
    "#test it:\n",
    "calc_grad(batch, train_y[:4], linear1)\n",
    "weights.grad.mean(),bias.grad\n",
    "     "
   ]
  },
  {
   "cell_type": "code",
   "execution_count": 101,
   "id": "2fc925fa-38d9-4477-9a5d-e4bbd2bc3e33",
   "metadata": {},
   "outputs": [],
   "source": [
    "#loss.backward actually adds the gradients of loss to any that are stored\n",
    "#so we need to zero the weights and biases each time\n",
    "#note that in-place operations end in an underscore\n",
    "weights.grad.zero_()\n",
    "bias.grad.zero_();"
   ]
  },
  {
   "cell_type": "code",
   "execution_count": 105,
   "id": "88a57732-844a-4149-80b2-916f8a53a239",
   "metadata": {},
   "outputs": [],
   "source": [
    "#basic loop:\n",
    "\n",
    "def train_epoch(model, lr, params):\n",
    "    for xb,yb in dl:\n",
    "        calc_grad(xb, yb, model)\n",
    "        for p in params:\n",
    "            p.data -= p.grad*lr\n",
    "            p.grad.zero_()"
   ]
  },
  {
   "cell_type": "code",
   "execution_count": 106,
   "id": "e56364cb-8e10-45a8-b1bf-5e2bd25f8701",
   "metadata": {},
   "outputs": [
    {
     "data": {
      "text/plain": [
       "tensor([[False],\n",
       "        [False],\n",
       "        [ True],\n",
       "        [False]])"
      ]
     },
     "execution_count": 106,
     "metadata": {},
     "output_type": "execute_result"
    }
   ],
   "source": [
    "(preds>0.0).float() == train_y[:4]"
   ]
  },
  {
   "cell_type": "code",
   "execution_count": 107,
   "id": "4f97d559-0ece-467e-a6a8-84fb5d5faae0",
   "metadata": {},
   "outputs": [],
   "source": [
    "\n",
    "def batch_accuracy(xb, yb):\n",
    "    preds = xb.sigmoid()\n",
    "    correct = (preds>0.5) == yb\n",
    "    return correct.float().mean()"
   ]
  },
  {
   "cell_type": "code",
   "execution_count": 108,
   "id": "f2c8509a-f2ad-4d97-88b7-5a95b86a1267",
   "metadata": {},
   "outputs": [
    {
     "data": {
      "text/plain": [
       "tensor(0.2500)"
      ]
     },
     "execution_count": 108,
     "metadata": {},
     "output_type": "execute_result"
    }
   ],
   "source": [
    "#check it\n",
    "\n",
    "batch_accuracy(linear1(batch), train_y[:4])"
   ]
  },
  {
   "cell_type": "code",
   "execution_count": 109,
   "id": "c9874e5f-e7f3-4a23-ac2a-e291d6ff2bcb",
   "metadata": {},
   "outputs": [],
   "source": [
    "#put the batches back together:\n",
    "def validate_epoch(model):\n",
    "    accs = [batch_accuracy(model(xb), yb) for xb,yb in valid_dl]\n",
    "    return round(torch.stack(accs).mean().item(), 4)"
   ]
  },
  {
   "cell_type": "code",
   "execution_count": 110,
   "id": "ed6f3081-ad9b-4b7c-a64d-32e2c261ae6b",
   "metadata": {},
   "outputs": [
    {
     "data": {
      "text/plain": [
       "0.5264"
      ]
     },
     "execution_count": 110,
     "metadata": {},
     "output_type": "execute_result"
    }
   ],
   "source": [
    "\n",
    "validate_epoch(linear1)"
   ]
  },
  {
   "cell_type": "code",
   "execution_count": 111,
   "id": "91485568-dda5-486d-9b83-7f413223e46e",
   "metadata": {},
   "outputs": [
    {
     "data": {
      "text/plain": [
       "0.6664"
      ]
     },
     "execution_count": 111,
     "metadata": {},
     "output_type": "execute_result"
    }
   ],
   "source": [
    "lr = 1.\n",
    "params = weights,bias\n",
    "train_epoch(linear1, lr, params)\n",
    "validate_epoch(linear1)"
   ]
  },
  {
   "cell_type": "code",
   "execution_count": 112,
   "id": "dbb06a23-8565-4dd6-bfa0-5731b796abf4",
   "metadata": {},
   "outputs": [
    {
     "name": "stdout",
     "output_type": "stream",
     "text": [
      "0.8265 0.89 0.9183 0.9275 0.9397 0.9466 0.9505 0.9524 0.9559 0.9578 0.9598 0.9608 0.9612 0.9617 0.9632 0.9637 0.9647 0.9656 0.9671 0.9676 "
     ]
    }
   ],
   "source": [
    "for i in range(20):\n",
    "    train_epoch(linear1, lr, params)\n",
    "    print(validate_epoch(linear1), end=' ')\n",
    "    "
   ]
  },
  {
   "cell_type": "markdown",
   "id": "3cd82b3d-3fe8-4732-805c-76a04a457931",
   "metadata": {},
   "source": [
    "Pytorch gives us real functions to do all of this.\n",
    "nn.Linear does the same thing as init_params and linear.\n"
   ]
  },
  {
   "cell_type": "code",
   "execution_count": 113,
   "id": "c483445b-353d-4f13-a4e3-bdf60b515177",
   "metadata": {},
   "outputs": [],
   "source": [
    "linear_model = nn.Linear(28*28,1)"
   ]
  },
  {
   "cell_type": "code",
   "execution_count": 114,
   "id": "094ec543-e426-4e5c-9875-61ee980d881a",
   "metadata": {},
   "outputs": [
    {
     "data": {
      "text/plain": [
       "(torch.Size([1, 784]), torch.Size([1]))"
      ]
     },
     "execution_count": 114,
     "metadata": {},
     "output_type": "execute_result"
    }
   ],
   "source": [
    "#modules know what parameters are trainable\n",
    "w,b = linear_model.parameters()\n",
    "w.shape,b.shape"
   ]
  },
  {
   "cell_type": "code",
   "execution_count": 115,
   "id": "e3590dce-2a46-49d4-bb41-2498c5eab161",
   "metadata": {},
   "outputs": [],
   "source": [
    "#Basic optimizer:\n",
    "\n",
    "class BasicOptim:\n",
    "    def __init__(self,params,lr): self.params,self.lr = list(params),lr\n",
    "\n",
    "    def step(self, *args, **kwargs):\n",
    "        for p in self.params: p.data -= p.grad.data * self.lr\n",
    "\n",
    "    def zero_grad(self, *args, **kwargs):\n",
    "        for p in self.params: p.grad = None"
   ]
  },
  {
   "cell_type": "code",
   "execution_count": 116,
   "id": "18a7c326-3062-488f-bcfb-8000deab9698",
   "metadata": {},
   "outputs": [],
   "source": [
    "\n",
    "opt = BasicOptim(linear_model.parameters(), lr)"
   ]
  },
  {
   "cell_type": "code",
   "execution_count": 117,
   "id": "fb5b9ed6-cb7c-482b-af15-e305ae4d3345",
   "metadata": {},
   "outputs": [],
   "source": [
    "#new loop:\n",
    "\n",
    "def train_epoch(model):\n",
    "    for xb,yb in dl:\n",
    "        calc_grad(xb, yb, model)\n",
    "        opt.step()\n",
    "        opt.zero_grad()\n",
    "     "
   ]
  },
  {
   "cell_type": "code",
   "execution_count": 118,
   "id": "4f3d4b41-00bd-4b08-a360-b8f5731f377c",
   "metadata": {},
   "outputs": [
    {
     "data": {
      "text/plain": [
       "0.4607"
      ]
     },
     "execution_count": 118,
     "metadata": {},
     "output_type": "execute_result"
    }
   ],
   "source": [
    "#validation stays the same\n",
    "validate_epoch(linear_model)"
   ]
  },
  {
   "cell_type": "code",
   "execution_count": 119,
   "id": "5a50ca3f-ec00-4da7-a8e0-091e51f6816e",
   "metadata": {},
   "outputs": [],
   "source": [
    "def train_model(model, epochs):\n",
    "    for i in range(epochs):\n",
    "        train_epoch(model)\n",
    "        print(validate_epoch(model), end=' ')"
   ]
  },
  {
   "cell_type": "code",
   "execution_count": 120,
   "id": "9f93982b-053a-4321-927c-3eebd5a44c16",
   "metadata": {},
   "outputs": [
    {
     "name": "stdout",
     "output_type": "stream",
     "text": [
      "0.4932 0.7685 0.8554 0.9135 0.9345 0.9482 0.957 0.9633 0.9657 0.9677 0.9696 0.9716 0.9736 0.9745 0.976 0.977 0.9775 0.9775 0.978 0.9785 "
     ]
    }
   ],
   "source": [
    "train_model(linear_model, 20)"
   ]
  },
  {
   "cell_type": "markdown",
   "id": "025d52c9-41bc-495b-b80e-a28f58dee196",
   "metadata": {},
   "source": [
    "Fastai also includes SGD class which does what our optmizer did:"
   ]
  },
  {
   "cell_type": "code",
   "execution_count": 121,
   "id": "30f016b7-025d-41bf-be53-5b505e1fe34b",
   "metadata": {},
   "outputs": [
    {
     "name": "stdout",
     "output_type": "stream",
     "text": [
      "0.4932 0.8179 0.8496 0.914 0.9345 0.9482 0.957 0.9618 0.9657 0.9672 0.9692 0.9711 0.9741 0.975 0.976 0.9775 0.9775 0.978 0.9785 0.9789 "
     ]
    }
   ],
   "source": [
    "linear_model = nn.Linear(28*28,1)\n",
    "opt = SGD(linear_model.parameters(), lr)\n",
    "train_model(linear_model, 20)\n",
    "     "
   ]
  },
  {
   "cell_type": "markdown",
   "id": "ca3ae9db-e37a-426a-b951-bdc849bc8d6f",
   "metadata": {},
   "source": [
    "Learner.fit replaces train_model.\n",
    "To create a Learner we first need Dataloader"
   ]
  },
  {
   "cell_type": "code",
   "execution_count": 122,
   "id": "17918fc6-e3dc-44ca-bd1f-28e8aa108cf6",
   "metadata": {},
   "outputs": [],
   "source": [
    "dls = DataLoaders(dl, valid_dl)"
   ]
  },
  {
   "cell_type": "markdown",
   "id": "a3ce4cc4-7cac-4750-b9ae-59447cb85f4a",
   "metadata": {},
   "source": [
    "To create a Learner without using an application (such as vision_learner) we need to pass in all the elements that we've created in this chapter: the DataLoaders, the model, the optimization function (which will be passed the parameters), the loss function, and optionally any metrics to print:"
   ]
  },
  {
   "cell_type": "code",
   "execution_count": 123,
   "id": "24f92324-1918-4b74-8f14-647cb34df48d",
   "metadata": {},
   "outputs": [],
   "source": [
    "\n",
    "learn = Learner(dls, nn.Linear(28*28,1), opt_func=SGD,\n",
    "                loss_func=mnist_loss, metrics=batch_accuracy)"
   ]
  },
  {
   "cell_type": "code",
   "execution_count": 124,
   "id": "0d6ab8e8-7750-4d33-b188-db84f207cbf2",
   "metadata": {},
   "outputs": [
    {
     "data": {
      "text/html": [
       "\n",
       "<style>\n",
       "    /* Turns off some styling */\n",
       "    progress {\n",
       "        /* gets rid of default border in Firefox and Opera. */\n",
       "        border: none;\n",
       "        /* Needs to be in here for Safari polyfill so background images work as expected. */\n",
       "        background-size: auto;\n",
       "    }\n",
       "    progress:not([value]), progress:not([value])::-webkit-progress-bar {\n",
       "        background: repeating-linear-gradient(45deg, #7e7e7e, #7e7e7e 10px, #5c5c5c 10px, #5c5c5c 20px);\n",
       "    }\n",
       "    .progress-bar-interrupted, .progress-bar-interrupted::-webkit-progress-bar {\n",
       "        background: #F44336;\n",
       "    }\n",
       "</style>\n"
      ],
      "text/plain": [
       "<IPython.core.display.HTML object>"
      ]
     },
     "metadata": {},
     "output_type": "display_data"
    },
    {
     "data": {
      "text/html": [
       "<table border=\"1\" class=\"dataframe\">\n",
       "  <thead>\n",
       "    <tr style=\"text-align: left;\">\n",
       "      <th>epoch</th>\n",
       "      <th>train_loss</th>\n",
       "      <th>valid_loss</th>\n",
       "      <th>batch_accuracy</th>\n",
       "      <th>time</th>\n",
       "    </tr>\n",
       "  </thead>\n",
       "  <tbody>\n",
       "    <tr>\n",
       "      <td>0</td>\n",
       "      <td>0.636709</td>\n",
       "      <td>0.503144</td>\n",
       "      <td>0.495584</td>\n",
       "      <td>00:00</td>\n",
       "    </tr>\n",
       "    <tr>\n",
       "      <td>1</td>\n",
       "      <td>0.429828</td>\n",
       "      <td>0.248517</td>\n",
       "      <td>0.777233</td>\n",
       "      <td>00:00</td>\n",
       "    </tr>\n",
       "    <tr>\n",
       "      <td>2</td>\n",
       "      <td>0.161680</td>\n",
       "      <td>0.155361</td>\n",
       "      <td>0.861629</td>\n",
       "      <td>00:00</td>\n",
       "    </tr>\n",
       "    <tr>\n",
       "      <td>3</td>\n",
       "      <td>0.072948</td>\n",
       "      <td>0.097722</td>\n",
       "      <td>0.917566</td>\n",
       "      <td>00:00</td>\n",
       "    </tr>\n",
       "    <tr>\n",
       "      <td>4</td>\n",
       "      <td>0.040128</td>\n",
       "      <td>0.073205</td>\n",
       "      <td>0.936212</td>\n",
       "      <td>00:00</td>\n",
       "    </tr>\n",
       "    <tr>\n",
       "      <td>5</td>\n",
       "      <td>0.027210</td>\n",
       "      <td>0.059466</td>\n",
       "      <td>0.950442</td>\n",
       "      <td>00:00</td>\n",
       "    </tr>\n",
       "    <tr>\n",
       "      <td>6</td>\n",
       "      <td>0.021837</td>\n",
       "      <td>0.050799</td>\n",
       "      <td>0.957802</td>\n",
       "      <td>00:00</td>\n",
       "    </tr>\n",
       "    <tr>\n",
       "      <td>7</td>\n",
       "      <td>0.019398</td>\n",
       "      <td>0.044980</td>\n",
       "      <td>0.964181</td>\n",
       "      <td>00:00</td>\n",
       "    </tr>\n",
       "    <tr>\n",
       "      <td>8</td>\n",
       "      <td>0.018122</td>\n",
       "      <td>0.040853</td>\n",
       "      <td>0.966143</td>\n",
       "      <td>00:00</td>\n",
       "    </tr>\n",
       "    <tr>\n",
       "      <td>9</td>\n",
       "      <td>0.017330</td>\n",
       "      <td>0.037788</td>\n",
       "      <td>0.968106</td>\n",
       "      <td>00:00</td>\n",
       "    </tr>\n",
       "  </tbody>\n",
       "</table>"
      ],
      "text/plain": [
       "<IPython.core.display.HTML object>"
      ]
     },
     "metadata": {},
     "output_type": "display_data"
    }
   ],
   "source": [
    "learn.fit(10, lr=lr)"
   ]
  },
  {
   "cell_type": "code",
   "execution_count": 125,
   "id": "7d5a71ae-7574-4f44-8769-f96eae89f0bd",
   "metadata": {},
   "outputs": [],
   "source": [
    "# basic network def:\n",
    "def simple_net(xb): \n",
    "    res = xb@w1 + b1\n",
    "    res = res.max(tensor(0.0))\n",
    "    res = res@w2 + b2\n",
    "    return res"
   ]
  },
  {
   "cell_type": "code",
   "execution_count": 126,
   "id": "bfca9c50-f23f-43ad-bf45-f39aced2b726",
   "metadata": {},
   "outputs": [],
   "source": [
    "w1 = init_params((28*28,30))\n",
    "b1 = init_params(30)\n",
    "w2 = init_params((30,1))\n",
    "b2 = init_params(1)\n",
    "     "
   ]
  },
  {
   "cell_type": "markdown",
   "id": "e1e50e65-6e22-445f-b1a7-887c9eb29b49",
   "metadata": {},
   "source": [
    "They talk a bit for why ReLUs are good but they kind of separate the other functions by using the max.\n",
    "Imagine stacking many relus (like maaany) to create many functions."
   ]
  },
  {
   "cell_type": "code",
   "execution_count": 127,
   "id": "8342c4fc-b1ef-407c-8492-c811be2fbbde",
   "metadata": {},
   "outputs": [],
   "source": [
    "#pytorch way:\n",
    "\n",
    "simple_net = nn.Sequential(\n",
    "    nn.Linear(28*28,30),\n",
    "    nn.ReLU(),\n",
    "    nn.Linear(30,1)\n",
    ")"
   ]
  },
  {
   "cell_type": "code",
   "execution_count": 128,
   "id": "6e29d359-ac99-41d2-86d7-e4804b1afb91",
   "metadata": {},
   "outputs": [],
   "source": [
    "\n",
    "learn = Learner(dls, simple_net, opt_func=SGD,\n",
    "                loss_func=mnist_loss, metrics=batch_accuracy)\n",
    "     "
   ]
  },
  {
   "cell_type": "code",
   "execution_count": 129,
   "id": "40515cf8-f282-4225-8db5-90473f5cfc02",
   "metadata": {},
   "outputs": [
    {
     "data": {
      "text/html": [
       "\n",
       "<style>\n",
       "    /* Turns off some styling */\n",
       "    progress {\n",
       "        /* gets rid of default border in Firefox and Opera. */\n",
       "        border: none;\n",
       "        /* Needs to be in here for Safari polyfill so background images work as expected. */\n",
       "        background-size: auto;\n",
       "    }\n",
       "    progress:not([value]), progress:not([value])::-webkit-progress-bar {\n",
       "        background: repeating-linear-gradient(45deg, #7e7e7e, #7e7e7e 10px, #5c5c5c 10px, #5c5c5c 20px);\n",
       "    }\n",
       "    .progress-bar-interrupted, .progress-bar-interrupted::-webkit-progress-bar {\n",
       "        background: #F44336;\n",
       "    }\n",
       "</style>\n"
      ],
      "text/plain": [
       "<IPython.core.display.HTML object>"
      ]
     },
     "metadata": {},
     "output_type": "display_data"
    },
    {
     "data": {
      "text/html": [
       "<table border=\"1\" class=\"dataframe\">\n",
       "  <thead>\n",
       "    <tr style=\"text-align: left;\">\n",
       "      <th>epoch</th>\n",
       "      <th>train_loss</th>\n",
       "      <th>valid_loss</th>\n",
       "      <th>batch_accuracy</th>\n",
       "      <th>time</th>\n",
       "    </tr>\n",
       "  </thead>\n",
       "  <tbody>\n",
       "    <tr>\n",
       "      <td>0</td>\n",
       "      <td>0.333021</td>\n",
       "      <td>0.396112</td>\n",
       "      <td>0.512267</td>\n",
       "      <td>00:00</td>\n",
       "    </tr>\n",
       "    <tr>\n",
       "      <td>1</td>\n",
       "      <td>0.152461</td>\n",
       "      <td>0.235238</td>\n",
       "      <td>0.797350</td>\n",
       "      <td>00:00</td>\n",
       "    </tr>\n",
       "    <tr>\n",
       "      <td>2</td>\n",
       "      <td>0.083573</td>\n",
       "      <td>0.117471</td>\n",
       "      <td>0.911678</td>\n",
       "      <td>00:00</td>\n",
       "    </tr>\n",
       "    <tr>\n",
       "      <td>3</td>\n",
       "      <td>0.054309</td>\n",
       "      <td>0.078720</td>\n",
       "      <td>0.940628</td>\n",
       "      <td>00:00</td>\n",
       "    </tr>\n",
       "    <tr>\n",
       "      <td>4</td>\n",
       "      <td>0.040829</td>\n",
       "      <td>0.061228</td>\n",
       "      <td>0.956330</td>\n",
       "      <td>00:00</td>\n",
       "    </tr>\n",
       "    <tr>\n",
       "      <td>5</td>\n",
       "      <td>0.034006</td>\n",
       "      <td>0.051490</td>\n",
       "      <td>0.963690</td>\n",
       "      <td>00:00</td>\n",
       "    </tr>\n",
       "    <tr>\n",
       "      <td>6</td>\n",
       "      <td>0.030123</td>\n",
       "      <td>0.045381</td>\n",
       "      <td>0.966634</td>\n",
       "      <td>00:00</td>\n",
       "    </tr>\n",
       "    <tr>\n",
       "      <td>7</td>\n",
       "      <td>0.027619</td>\n",
       "      <td>0.041218</td>\n",
       "      <td>0.968106</td>\n",
       "      <td>00:00</td>\n",
       "    </tr>\n",
       "    <tr>\n",
       "      <td>8</td>\n",
       "      <td>0.025825</td>\n",
       "      <td>0.038200</td>\n",
       "      <td>0.969087</td>\n",
       "      <td>00:00</td>\n",
       "    </tr>\n",
       "    <tr>\n",
       "      <td>9</td>\n",
       "      <td>0.024441</td>\n",
       "      <td>0.035901</td>\n",
       "      <td>0.969578</td>\n",
       "      <td>00:00</td>\n",
       "    </tr>\n",
       "    <tr>\n",
       "      <td>10</td>\n",
       "      <td>0.023321</td>\n",
       "      <td>0.034082</td>\n",
       "      <td>0.971541</td>\n",
       "      <td>00:00</td>\n",
       "    </tr>\n",
       "    <tr>\n",
       "      <td>11</td>\n",
       "      <td>0.022387</td>\n",
       "      <td>0.032598</td>\n",
       "      <td>0.972031</td>\n",
       "      <td>00:00</td>\n",
       "    </tr>\n",
       "    <tr>\n",
       "      <td>12</td>\n",
       "      <td>0.021592</td>\n",
       "      <td>0.031353</td>\n",
       "      <td>0.974485</td>\n",
       "      <td>00:00</td>\n",
       "    </tr>\n",
       "    <tr>\n",
       "      <td>13</td>\n",
       "      <td>0.020904</td>\n",
       "      <td>0.030284</td>\n",
       "      <td>0.975466</td>\n",
       "      <td>00:00</td>\n",
       "    </tr>\n",
       "    <tr>\n",
       "      <td>14</td>\n",
       "      <td>0.020300</td>\n",
       "      <td>0.029352</td>\n",
       "      <td>0.975466</td>\n",
       "      <td>00:00</td>\n",
       "    </tr>\n",
       "    <tr>\n",
       "      <td>15</td>\n",
       "      <td>0.019766</td>\n",
       "      <td>0.028526</td>\n",
       "      <td>0.975466</td>\n",
       "      <td>00:00</td>\n",
       "    </tr>\n",
       "    <tr>\n",
       "      <td>16</td>\n",
       "      <td>0.019288</td>\n",
       "      <td>0.027788</td>\n",
       "      <td>0.976448</td>\n",
       "      <td>00:00</td>\n",
       "    </tr>\n",
       "    <tr>\n",
       "      <td>17</td>\n",
       "      <td>0.018857</td>\n",
       "      <td>0.027124</td>\n",
       "      <td>0.977429</td>\n",
       "      <td>00:00</td>\n",
       "    </tr>\n",
       "    <tr>\n",
       "      <td>18</td>\n",
       "      <td>0.018465</td>\n",
       "      <td>0.026523</td>\n",
       "      <td>0.978410</td>\n",
       "      <td>00:00</td>\n",
       "    </tr>\n",
       "    <tr>\n",
       "      <td>19</td>\n",
       "      <td>0.018107</td>\n",
       "      <td>0.025977</td>\n",
       "      <td>0.978901</td>\n",
       "      <td>00:00</td>\n",
       "    </tr>\n",
       "    <tr>\n",
       "      <td>20</td>\n",
       "      <td>0.017777</td>\n",
       "      <td>0.025479</td>\n",
       "      <td>0.978901</td>\n",
       "      <td>00:00</td>\n",
       "    </tr>\n",
       "    <tr>\n",
       "      <td>21</td>\n",
       "      <td>0.017473</td>\n",
       "      <td>0.025022</td>\n",
       "      <td>0.979392</td>\n",
       "      <td>00:00</td>\n",
       "    </tr>\n",
       "    <tr>\n",
       "      <td>22</td>\n",
       "      <td>0.017191</td>\n",
       "      <td>0.024601</td>\n",
       "      <td>0.980373</td>\n",
       "      <td>00:00</td>\n",
       "    </tr>\n",
       "    <tr>\n",
       "      <td>23</td>\n",
       "      <td>0.016927</td>\n",
       "      <td>0.024213</td>\n",
       "      <td>0.980373</td>\n",
       "      <td>00:00</td>\n",
       "    </tr>\n",
       "    <tr>\n",
       "      <td>24</td>\n",
       "      <td>0.016680</td>\n",
       "      <td>0.023855</td>\n",
       "      <td>0.981354</td>\n",
       "      <td>00:00</td>\n",
       "    </tr>\n",
       "    <tr>\n",
       "      <td>25</td>\n",
       "      <td>0.016449</td>\n",
       "      <td>0.023521</td>\n",
       "      <td>0.981354</td>\n",
       "      <td>00:00</td>\n",
       "    </tr>\n",
       "    <tr>\n",
       "      <td>26</td>\n",
       "      <td>0.016230</td>\n",
       "      <td>0.023211</td>\n",
       "      <td>0.981354</td>\n",
       "      <td>00:00</td>\n",
       "    </tr>\n",
       "    <tr>\n",
       "      <td>27</td>\n",
       "      <td>0.016023</td>\n",
       "      <td>0.022922</td>\n",
       "      <td>0.981354</td>\n",
       "      <td>00:00</td>\n",
       "    </tr>\n",
       "    <tr>\n",
       "      <td>28</td>\n",
       "      <td>0.015827</td>\n",
       "      <td>0.022653</td>\n",
       "      <td>0.981845</td>\n",
       "      <td>00:00</td>\n",
       "    </tr>\n",
       "    <tr>\n",
       "      <td>29</td>\n",
       "      <td>0.015641</td>\n",
       "      <td>0.022401</td>\n",
       "      <td>0.981845</td>\n",
       "      <td>00:00</td>\n",
       "    </tr>\n",
       "    <tr>\n",
       "      <td>30</td>\n",
       "      <td>0.015463</td>\n",
       "      <td>0.022165</td>\n",
       "      <td>0.981845</td>\n",
       "      <td>00:00</td>\n",
       "    </tr>\n",
       "    <tr>\n",
       "      <td>31</td>\n",
       "      <td>0.015294</td>\n",
       "      <td>0.021944</td>\n",
       "      <td>0.983317</td>\n",
       "      <td>00:00</td>\n",
       "    </tr>\n",
       "    <tr>\n",
       "      <td>32</td>\n",
       "      <td>0.015132</td>\n",
       "      <td>0.021736</td>\n",
       "      <td>0.982826</td>\n",
       "      <td>00:00</td>\n",
       "    </tr>\n",
       "    <tr>\n",
       "      <td>33</td>\n",
       "      <td>0.014977</td>\n",
       "      <td>0.021541</td>\n",
       "      <td>0.982826</td>\n",
       "      <td>00:00</td>\n",
       "    </tr>\n",
       "    <tr>\n",
       "      <td>34</td>\n",
       "      <td>0.014828</td>\n",
       "      <td>0.021357</td>\n",
       "      <td>0.982336</td>\n",
       "      <td>00:00</td>\n",
       "    </tr>\n",
       "    <tr>\n",
       "      <td>35</td>\n",
       "      <td>0.014686</td>\n",
       "      <td>0.021184</td>\n",
       "      <td>0.982336</td>\n",
       "      <td>00:00</td>\n",
       "    </tr>\n",
       "    <tr>\n",
       "      <td>36</td>\n",
       "      <td>0.014549</td>\n",
       "      <td>0.021019</td>\n",
       "      <td>0.982336</td>\n",
       "      <td>00:00</td>\n",
       "    </tr>\n",
       "    <tr>\n",
       "      <td>37</td>\n",
       "      <td>0.014417</td>\n",
       "      <td>0.020864</td>\n",
       "      <td>0.982336</td>\n",
       "      <td>00:00</td>\n",
       "    </tr>\n",
       "    <tr>\n",
       "      <td>38</td>\n",
       "      <td>0.014290</td>\n",
       "      <td>0.020716</td>\n",
       "      <td>0.982336</td>\n",
       "      <td>00:00</td>\n",
       "    </tr>\n",
       "    <tr>\n",
       "      <td>39</td>\n",
       "      <td>0.014168</td>\n",
       "      <td>0.020576</td>\n",
       "      <td>0.982336</td>\n",
       "      <td>00:00</td>\n",
       "    </tr>\n",
       "  </tbody>\n",
       "</table>"
      ],
      "text/plain": [
       "<IPython.core.display.HTML object>"
      ]
     },
     "metadata": {},
     "output_type": "display_data"
    }
   ],
   "source": [
    "learn.fit(40, 0.1)"
   ]
  },
  {
   "cell_type": "code",
   "execution_count": 130,
   "id": "4c5845b6-42b4-4c58-8cc6-71fdb5869e70",
   "metadata": {},
   "outputs": [
    {
     "data": {
      "image/png": "[encoded data removed]",
      "text/plain": [
       "<Figure size 640x480 with 1 Axes>"
      ]
     },
     "metadata": {},
     "output_type": "display_data"
    }
   ],
   "source": [
    "#plot accuracy over training:\n",
    "plt.plot(L(learn.recorder.values).itemgot(2));"
   ]
  },
  {
   "cell_type": "code",
   "execution_count": 131,
   "id": "9b8e8c11-bf2f-4c53-9fab-0c90540573cf",
   "metadata": {},
   "outputs": [
    {
     "data": {
      "text/plain": [
       "0.98233562707901"
      ]
     },
     "execution_count": 131,
     "metadata": {},
     "output_type": "execute_result"
    }
   ],
   "source": [
    "#final accuracy:\n",
    "learn.recorder.values[-1][2]"
   ]
  },
  {
   "cell_type": "markdown",
   "id": "166fff3a-7f1a-4f8b-b422-26b07adcb446",
   "metadata": {},
   "source": [
    "Interestingly it mentions here to always add a nonlinearity (reLU) in between each pair of linear layers.\n",
    "So why go deeper?\n",
    "Deeper models need less parameters, smaller matrices.\n",
    "We actually get better results this way.\n",
    "Anyway lets throw this through our favorite 18 layer model resnet18:"
   ]
  },
  {
   "cell_type": "code",
   "execution_count": 132,
   "id": "dd6825ab-f288-46f9-b953-7f08fe3a0c70",
   "metadata": {},
   "outputs": [
    {
     "data": {
      "text/html": [
       "\n",
       "<style>\n",
       "    /* Turns off some styling */\n",
       "    progress {\n",
       "        /* gets rid of default border in Firefox and Opera. */\n",
       "        border: none;\n",
       "        /* Needs to be in here for Safari polyfill so background images work as expected. */\n",
       "        background-size: auto;\n",
       "    }\n",
       "    progress:not([value]), progress:not([value])::-webkit-progress-bar {\n",
       "        background: repeating-linear-gradient(45deg, #7e7e7e, #7e7e7e 10px, #5c5c5c 10px, #5c5c5c 20px);\n",
       "    }\n",
       "    .progress-bar-interrupted, .progress-bar-interrupted::-webkit-progress-bar {\n",
       "        background: #F44336;\n",
       "    }\n",
       "</style>\n"
      ],
      "text/plain": [
       "<IPython.core.display.HTML object>"
      ]
     },
     "metadata": {},
     "output_type": "display_data"
    },
    {
     "data": {
      "text/html": [
       "<table border=\"1\" class=\"dataframe\">\n",
       "  <thead>\n",
       "    <tr style=\"text-align: left;\">\n",
       "      <th>epoch</th>\n",
       "      <th>train_loss</th>\n",
       "      <th>valid_loss</th>\n",
       "      <th>accuracy</th>\n",
       "      <th>time</th>\n",
       "    </tr>\n",
       "  </thead>\n",
       "  <tbody>\n",
       "    <tr>\n",
       "      <td>0</td>\n",
       "      <td>0.114122</td>\n",
       "      <td>0.022083</td>\n",
       "      <td>0.996075</td>\n",
       "      <td>00:05</td>\n",
       "    </tr>\n",
       "  </tbody>\n",
       "</table>"
      ],
      "text/plain": [
       "<IPython.core.display.HTML object>"
      ]
     },
     "metadata": {},
     "output_type": "display_data"
    }
   ],
   "source": [
    "dls = ImageDataLoaders.from_folder(path)\n",
    "learn = vision_learner(dls, resnet18, pretrained=False,\n",
    "                    loss_func=F.cross_entropy, metrics=accuracy)\n",
    "learn.fit_one_cycle(1, 0.1)"
   ]
  },
  {
   "cell_type": "code",
   "execution_count": null,
   "id": "6a3408b2-cb02-46b9-9fbf-c7c67a33aa10",
   "metadata": {},
   "outputs": [],
   "source": []
  }
 ],
 "metadata": {
  "kernelspec": {
   "display_name": "Python (fastai)",
   "language": "python",
   "name": "fastai"
  },
  "language_info": {
   "codemirror_mode": {
    "name": "ipython",
    "version": 3
   },
   "file_extension": ".py",
   "mimetype": "text/x-python",
   "name": "python",
   "nbconvert_exporter": "python",
   "pygments_lexer": "ipython3",
   "version": "3.12.3"
  }
 },
 "nbformat": 4,
 "nbformat_minor": 5
}
